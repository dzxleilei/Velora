{
  "nbformat": 4,
  "nbformat_minor": 0,
  "metadata": {
    "colab": {
      "provenance": [],
      "gpuType": "T4"
    },
    "kernelspec": {
      "name": "python3",
      "display_name": "Python 3"
    },
    "language_info": {
      "name": "python"
    },
    "accelerator": "GPU"
  },
  "cells": [
    {
      "cell_type": "markdown",
      "source": [
        "## Velora - Perhitungan Kalori dan Rekomendasi Makanan\n",
        "\n",
        "3 Paper/studi terkait perhitungan kalori harian:\n",
        "1. Persamaan Mifflin-St Jeor, [Paper Link](https://pmc.ncbi.nlm.nih.gov/articles/PMC7478086/)\n",
        "2. Rekomendasi koreksi faktor klinis, [Paper Link](https://pmc.ncbi.nlm.nih.gov/articles/PMC6068274/)\n"
      ],
      "metadata": {
        "id": "2ANynDBs2M98"
      }
    },
    {
      "cell_type": "markdown",
      "source": [
        "#### Import Library"
      ],
      "metadata": {
        "id": "7Oo6dYsNApO6"
      }
    },
    {
      "cell_type": "code",
      "source": [
        "# Install library/packages\n",
        "!pip install tensorflow tensorflowjs pandas"
      ],
      "metadata": {
        "id": "JL7XqseYf3az"
      },
      "execution_count": null,
      "outputs": []
    },
    {
      "cell_type": "code",
      "source": [
        "# Import Library\n",
        "import pandas as pd\n",
        "import numpy as np\n",
        "import seaborn as sns\n",
        "import tensorflow as tf\n",
        "from IPython.display import display, Markdown, HTML\n",
        "import matplotlib.pyplot as plt\n",
        "import random"
      ],
      "metadata": {
        "id": "EhGsrA2L2OaH"
      },
      "execution_count": 2,
      "outputs": []
    },
    {
      "cell_type": "markdown",
      "source": [
        "#### Load Dataset"
      ],
      "metadata": {
        "id": "NkghiX-6EBpR"
      }
    },
    {
      "cell_type": "code",
      "source": [
        "# url google sheets (dataset)\n",
        "sheet_url = \"https://docs.google.com/spreadsheets/d/1XsQ7G0yBhPkCHSMAziD8RWpr5IEcTquvDBMmjdT0ZtM/edit?usp=sharing\"\n",
        "\n",
        "# Load data\n",
        "csv_url = sheet_url.replace(\"/edit?usp=sharing\", \"/export?format=csv\")\n",
        "data = pd.read_csv(csv_url)"
      ],
      "metadata": {
        "id": "2quPjZN_D_Gx"
      },
      "execution_count": 3,
      "outputs": []
    },
    {
      "cell_type": "code",
      "source": [
        "display(data.head(15))"
      ],
      "metadata": {
        "colab": {
          "base_uri": "https://localhost:8080/",
          "height": 520
        },
        "id": "OrIJ2AnzDOSR",
        "outputId": "fcb36fb6-c183-4b3d-a5ff-c849a7d55201"
      },
      "execution_count": 4,
      "outputs": [
        {
          "output_type": "display_data",
          "data": {
            "text/plain": [
              "    id_makanan  calories  proteins   fat  carbohydrate  \\\n",
              "0            1     280.0       9.2  28.4           0.0   \n",
              "1            2     513.0      23.7  37.0          21.3   \n",
              "2            3       0.0       0.0   0.2           0.0   \n",
              "3            4      85.0       0.9   6.5           7.7   \n",
              "4            5     184.0      18.8  14.0           0.0   \n",
              "5            6     174.0      19.6  10.0           0.0   \n",
              "6            7     190.0      19.1  12.0           0.0   \n",
              "7            8      30.0       0.5   0.2           6.8   \n",
              "8            9     354.0      16.4  31.5           0.0   \n",
              "9           10     126.0       3.4   7.9          10.3   \n",
              "10          11      58.0       0.3   0.4          14.9   \n",
              "11          12      57.0       0.5   0.4          12.8   \n",
              "12          13      37.0       0.8   0.5           8.3   \n",
              "13          14     113.0       0.9   7.2          11.2   \n",
              "14          15     302.0      18.2  25.0           0.0   \n",
              "\n",
              "                               name                     label  \n",
              "0                              Abon  breakfast, lunch, dinner  \n",
              "1                   Abon Ikan Gabus  breakfast, lunch, dinner  \n",
              "2                         Agar-Agar                     snack  \n",
              "3                     Buah Alpukat           snack, breakfast  \n",
              "4   Daging Sapi Muda (Dengan Lemak)  breakfast, lunch, dinner  \n",
              "5    Daging Sapi Muda (Tanpa Lemak)  breakfast, lunch, dinner  \n",
              "6                  Daging Sapi Muda  breakfast, lunch, dinner  \n",
              "7                      Anggur Hijau                     snack  \n",
              "8                      Daging Angsa             lunch, dinner  \n",
              "9                      Anyang Sayur          breakfast, lunch  \n",
              "10                             Apel          breakfast, snack  \n",
              "11                      Apel Malang          breakfast, snack  \n",
              "12                  Buah Mulberries                     snack  \n",
              "13                  Nasi Sayur Ares  breakfast, lunch, dinner  \n",
              "14                             Ayam  breakfast, lunch, dinner  "
            ],
            "text/html": [
              "\n",
              "  <div id=\"df-0885c717-0bc9-42a3-8e97-8a67285909d8\" class=\"colab-df-container\">\n",
              "    <div>\n",
              "<style scoped>\n",
              "    .dataframe tbody tr th:only-of-type {\n",
              "        vertical-align: middle;\n",
              "    }\n",
              "\n",
              "    .dataframe tbody tr th {\n",
              "        vertical-align: top;\n",
              "    }\n",
              "\n",
              "    .dataframe thead th {\n",
              "        text-align: right;\n",
              "    }\n",
              "</style>\n",
              "<table border=\"1\" class=\"dataframe\">\n",
              "  <thead>\n",
              "    <tr style=\"text-align: right;\">\n",
              "      <th></th>\n",
              "      <th>id_makanan</th>\n",
              "      <th>calories</th>\n",
              "      <th>proteins</th>\n",
              "      <th>fat</th>\n",
              "      <th>carbohydrate</th>\n",
              "      <th>name</th>\n",
              "      <th>label</th>\n",
              "    </tr>\n",
              "  </thead>\n",
              "  <tbody>\n",
              "    <tr>\n",
              "      <th>0</th>\n",
              "      <td>1</td>\n",
              "      <td>280.0</td>\n",
              "      <td>9.2</td>\n",
              "      <td>28.4</td>\n",
              "      <td>0.0</td>\n",
              "      <td>Abon</td>\n",
              "      <td>breakfast, lunch, dinner</td>\n",
              "    </tr>\n",
              "    <tr>\n",
              "      <th>1</th>\n",
              "      <td>2</td>\n",
              "      <td>513.0</td>\n",
              "      <td>23.7</td>\n",
              "      <td>37.0</td>\n",
              "      <td>21.3</td>\n",
              "      <td>Abon Ikan Gabus</td>\n",
              "      <td>breakfast, lunch, dinner</td>\n",
              "    </tr>\n",
              "    <tr>\n",
              "      <th>2</th>\n",
              "      <td>3</td>\n",
              "      <td>0.0</td>\n",
              "      <td>0.0</td>\n",
              "      <td>0.2</td>\n",
              "      <td>0.0</td>\n",
              "      <td>Agar-Agar</td>\n",
              "      <td>snack</td>\n",
              "    </tr>\n",
              "    <tr>\n",
              "      <th>3</th>\n",
              "      <td>4</td>\n",
              "      <td>85.0</td>\n",
              "      <td>0.9</td>\n",
              "      <td>6.5</td>\n",
              "      <td>7.7</td>\n",
              "      <td>Buah Alpukat</td>\n",
              "      <td>snack, breakfast</td>\n",
              "    </tr>\n",
              "    <tr>\n",
              "      <th>4</th>\n",
              "      <td>5</td>\n",
              "      <td>184.0</td>\n",
              "      <td>18.8</td>\n",
              "      <td>14.0</td>\n",
              "      <td>0.0</td>\n",
              "      <td>Daging Sapi Muda (Dengan Lemak)</td>\n",
              "      <td>breakfast, lunch, dinner</td>\n",
              "    </tr>\n",
              "    <tr>\n",
              "      <th>5</th>\n",
              "      <td>6</td>\n",
              "      <td>174.0</td>\n",
              "      <td>19.6</td>\n",
              "      <td>10.0</td>\n",
              "      <td>0.0</td>\n",
              "      <td>Daging Sapi Muda (Tanpa Lemak)</td>\n",
              "      <td>breakfast, lunch, dinner</td>\n",
              "    </tr>\n",
              "    <tr>\n",
              "      <th>6</th>\n",
              "      <td>7</td>\n",
              "      <td>190.0</td>\n",
              "      <td>19.1</td>\n",
              "      <td>12.0</td>\n",
              "      <td>0.0</td>\n",
              "      <td>Daging Sapi Muda</td>\n",
              "      <td>breakfast, lunch, dinner</td>\n",
              "    </tr>\n",
              "    <tr>\n",
              "      <th>7</th>\n",
              "      <td>8</td>\n",
              "      <td>30.0</td>\n",
              "      <td>0.5</td>\n",
              "      <td>0.2</td>\n",
              "      <td>6.8</td>\n",
              "      <td>Anggur Hijau</td>\n",
              "      <td>snack</td>\n",
              "    </tr>\n",
              "    <tr>\n",
              "      <th>8</th>\n",
              "      <td>9</td>\n",
              "      <td>354.0</td>\n",
              "      <td>16.4</td>\n",
              "      <td>31.5</td>\n",
              "      <td>0.0</td>\n",
              "      <td>Daging Angsa</td>\n",
              "      <td>lunch, dinner</td>\n",
              "    </tr>\n",
              "    <tr>\n",
              "      <th>9</th>\n",
              "      <td>10</td>\n",
              "      <td>126.0</td>\n",
              "      <td>3.4</td>\n",
              "      <td>7.9</td>\n",
              "      <td>10.3</td>\n",
              "      <td>Anyang Sayur</td>\n",
              "      <td>breakfast, lunch</td>\n",
              "    </tr>\n",
              "    <tr>\n",
              "      <th>10</th>\n",
              "      <td>11</td>\n",
              "      <td>58.0</td>\n",
              "      <td>0.3</td>\n",
              "      <td>0.4</td>\n",
              "      <td>14.9</td>\n",
              "      <td>Apel</td>\n",
              "      <td>breakfast, snack</td>\n",
              "    </tr>\n",
              "    <tr>\n",
              "      <th>11</th>\n",
              "      <td>12</td>\n",
              "      <td>57.0</td>\n",
              "      <td>0.5</td>\n",
              "      <td>0.4</td>\n",
              "      <td>12.8</td>\n",
              "      <td>Apel Malang</td>\n",
              "      <td>breakfast, snack</td>\n",
              "    </tr>\n",
              "    <tr>\n",
              "      <th>12</th>\n",
              "      <td>13</td>\n",
              "      <td>37.0</td>\n",
              "      <td>0.8</td>\n",
              "      <td>0.5</td>\n",
              "      <td>8.3</td>\n",
              "      <td>Buah Mulberries</td>\n",
              "      <td>snack</td>\n",
              "    </tr>\n",
              "    <tr>\n",
              "      <th>13</th>\n",
              "      <td>14</td>\n",
              "      <td>113.0</td>\n",
              "      <td>0.9</td>\n",
              "      <td>7.2</td>\n",
              "      <td>11.2</td>\n",
              "      <td>Nasi Sayur Ares</td>\n",
              "      <td>breakfast, lunch, dinner</td>\n",
              "    </tr>\n",
              "    <tr>\n",
              "      <th>14</th>\n",
              "      <td>15</td>\n",
              "      <td>302.0</td>\n",
              "      <td>18.2</td>\n",
              "      <td>25.0</td>\n",
              "      <td>0.0</td>\n",
              "      <td>Ayam</td>\n",
              "      <td>breakfast, lunch, dinner</td>\n",
              "    </tr>\n",
              "  </tbody>\n",
              "</table>\n",
              "</div>\n",
              "    <div class=\"colab-df-buttons\">\n",
              "\n",
              "  <div class=\"colab-df-container\">\n",
              "    <button class=\"colab-df-convert\" onclick=\"convertToInteractive('df-0885c717-0bc9-42a3-8e97-8a67285909d8')\"\n",
              "            title=\"Convert this dataframe to an interactive table.\"\n",
              "            style=\"display:none;\">\n",
              "\n",
              "  <svg xmlns=\"http://www.w3.org/2000/svg\" height=\"24px\" viewBox=\"0 -960 960 960\">\n",
              "    <path d=\"M120-120v-720h720v720H120Zm60-500h600v-160H180v160Zm220 220h160v-160H400v160Zm0 220h160v-160H400v160ZM180-400h160v-160H180v160Zm440 0h160v-160H620v160ZM180-180h160v-160H180v160Zm440 0h160v-160H620v160Z\"/>\n",
              "  </svg>\n",
              "    </button>\n",
              "\n",
              "  <style>\n",
              "    .colab-df-container {\n",
              "      display:flex;\n",
              "      gap: 12px;\n",
              "    }\n",
              "\n",
              "    .colab-df-convert {\n",
              "      background-color: #E8F0FE;\n",
              "      border: none;\n",
              "      border-radius: 50%;\n",
              "      cursor: pointer;\n",
              "      display: none;\n",
              "      fill: #1967D2;\n",
              "      height: 32px;\n",
              "      padding: 0 0 0 0;\n",
              "      width: 32px;\n",
              "    }\n",
              "\n",
              "    .colab-df-convert:hover {\n",
              "      background-color: #E2EBFA;\n",
              "      box-shadow: 0px 1px 2px rgba(60, 64, 67, 0.3), 0px 1px 3px 1px rgba(60, 64, 67, 0.15);\n",
              "      fill: #174EA6;\n",
              "    }\n",
              "\n",
              "    .colab-df-buttons div {\n",
              "      margin-bottom: 4px;\n",
              "    }\n",
              "\n",
              "    [theme=dark] .colab-df-convert {\n",
              "      background-color: #3B4455;\n",
              "      fill: #D2E3FC;\n",
              "    }\n",
              "\n",
              "    [theme=dark] .colab-df-convert:hover {\n",
              "      background-color: #434B5C;\n",
              "      box-shadow: 0px 1px 3px 1px rgba(0, 0, 0, 0.15);\n",
              "      filter: drop-shadow(0px 1px 2px rgba(0, 0, 0, 0.3));\n",
              "      fill: #FFFFFF;\n",
              "    }\n",
              "  </style>\n",
              "\n",
              "    <script>\n",
              "      const buttonEl =\n",
              "        document.querySelector('#df-0885c717-0bc9-42a3-8e97-8a67285909d8 button.colab-df-convert');\n",
              "      buttonEl.style.display =\n",
              "        google.colab.kernel.accessAllowed ? 'block' : 'none';\n",
              "\n",
              "      async function convertToInteractive(key) {\n",
              "        const element = document.querySelector('#df-0885c717-0bc9-42a3-8e97-8a67285909d8');\n",
              "        const dataTable =\n",
              "          await google.colab.kernel.invokeFunction('convertToInteractive',\n",
              "                                                    [key], {});\n",
              "        if (!dataTable) return;\n",
              "\n",
              "        const docLinkHtml = 'Like what you see? Visit the ' +\n",
              "          '<a target=\"_blank\" href=https://colab.research.google.com/notebooks/data_table.ipynb>data table notebook</a>'\n",
              "          + ' to learn more about interactive tables.';\n",
              "        element.innerHTML = '';\n",
              "        dataTable['output_type'] = 'display_data';\n",
              "        await google.colab.output.renderOutput(dataTable, element);\n",
              "        const docLink = document.createElement('div');\n",
              "        docLink.innerHTML = docLinkHtml;\n",
              "        element.appendChild(docLink);\n",
              "      }\n",
              "    </script>\n",
              "  </div>\n",
              "\n",
              "\n",
              "    <div id=\"df-4fc5ed9c-857f-4187-8b2a-f9886f843da6\">\n",
              "      <button class=\"colab-df-quickchart\" onclick=\"quickchart('df-4fc5ed9c-857f-4187-8b2a-f9886f843da6')\"\n",
              "                title=\"Suggest charts\"\n",
              "                style=\"display:none;\">\n",
              "\n",
              "<svg xmlns=\"http://www.w3.org/2000/svg\" height=\"24px\"viewBox=\"0 0 24 24\"\n",
              "     width=\"24px\">\n",
              "    <g>\n",
              "        <path d=\"M19 3H5c-1.1 0-2 .9-2 2v14c0 1.1.9 2 2 2h14c1.1 0 2-.9 2-2V5c0-1.1-.9-2-2-2zM9 17H7v-7h2v7zm4 0h-2V7h2v10zm4 0h-2v-4h2v4z\"/>\n",
              "    </g>\n",
              "</svg>\n",
              "      </button>\n",
              "\n",
              "<style>\n",
              "  .colab-df-quickchart {\n",
              "      --bg-color: #E8F0FE;\n",
              "      --fill-color: #1967D2;\n",
              "      --hover-bg-color: #E2EBFA;\n",
              "      --hover-fill-color: #174EA6;\n",
              "      --disabled-fill-color: #AAA;\n",
              "      --disabled-bg-color: #DDD;\n",
              "  }\n",
              "\n",
              "  [theme=dark] .colab-df-quickchart {\n",
              "      --bg-color: #3B4455;\n",
              "      --fill-color: #D2E3FC;\n",
              "      --hover-bg-color: #434B5C;\n",
              "      --hover-fill-color: #FFFFFF;\n",
              "      --disabled-bg-color: #3B4455;\n",
              "      --disabled-fill-color: #666;\n",
              "  }\n",
              "\n",
              "  .colab-df-quickchart {\n",
              "    background-color: var(--bg-color);\n",
              "    border: none;\n",
              "    border-radius: 50%;\n",
              "    cursor: pointer;\n",
              "    display: none;\n",
              "    fill: var(--fill-color);\n",
              "    height: 32px;\n",
              "    padding: 0;\n",
              "    width: 32px;\n",
              "  }\n",
              "\n",
              "  .colab-df-quickchart:hover {\n",
              "    background-color: var(--hover-bg-color);\n",
              "    box-shadow: 0 1px 2px rgba(60, 64, 67, 0.3), 0 1px 3px 1px rgba(60, 64, 67, 0.15);\n",
              "    fill: var(--button-hover-fill-color);\n",
              "  }\n",
              "\n",
              "  .colab-df-quickchart-complete:disabled,\n",
              "  .colab-df-quickchart-complete:disabled:hover {\n",
              "    background-color: var(--disabled-bg-color);\n",
              "    fill: var(--disabled-fill-color);\n",
              "    box-shadow: none;\n",
              "  }\n",
              "\n",
              "  .colab-df-spinner {\n",
              "    border: 2px solid var(--fill-color);\n",
              "    border-color: transparent;\n",
              "    border-bottom-color: var(--fill-color);\n",
              "    animation:\n",
              "      spin 1s steps(1) infinite;\n",
              "  }\n",
              "\n",
              "  @keyframes spin {\n",
              "    0% {\n",
              "      border-color: transparent;\n",
              "      border-bottom-color: var(--fill-color);\n",
              "      border-left-color: var(--fill-color);\n",
              "    }\n",
              "    20% {\n",
              "      border-color: transparent;\n",
              "      border-left-color: var(--fill-color);\n",
              "      border-top-color: var(--fill-color);\n",
              "    }\n",
              "    30% {\n",
              "      border-color: transparent;\n",
              "      border-left-color: var(--fill-color);\n",
              "      border-top-color: var(--fill-color);\n",
              "      border-right-color: var(--fill-color);\n",
              "    }\n",
              "    40% {\n",
              "      border-color: transparent;\n",
              "      border-right-color: var(--fill-color);\n",
              "      border-top-color: var(--fill-color);\n",
              "    }\n",
              "    60% {\n",
              "      border-color: transparent;\n",
              "      border-right-color: var(--fill-color);\n",
              "    }\n",
              "    80% {\n",
              "      border-color: transparent;\n",
              "      border-right-color: var(--fill-color);\n",
              "      border-bottom-color: var(--fill-color);\n",
              "    }\n",
              "    90% {\n",
              "      border-color: transparent;\n",
              "      border-bottom-color: var(--fill-color);\n",
              "    }\n",
              "  }\n",
              "</style>\n",
              "\n",
              "      <script>\n",
              "        async function quickchart(key) {\n",
              "          const quickchartButtonEl =\n",
              "            document.querySelector('#' + key + ' button');\n",
              "          quickchartButtonEl.disabled = true;  // To prevent multiple clicks.\n",
              "          quickchartButtonEl.classList.add('colab-df-spinner');\n",
              "          try {\n",
              "            const charts = await google.colab.kernel.invokeFunction(\n",
              "                'suggestCharts', [key], {});\n",
              "          } catch (error) {\n",
              "            console.error('Error during call to suggestCharts:', error);\n",
              "          }\n",
              "          quickchartButtonEl.classList.remove('colab-df-spinner');\n",
              "          quickchartButtonEl.classList.add('colab-df-quickchart-complete');\n",
              "        }\n",
              "        (() => {\n",
              "          let quickchartButtonEl =\n",
              "            document.querySelector('#df-4fc5ed9c-857f-4187-8b2a-f9886f843da6 button');\n",
              "          quickchartButtonEl.style.display =\n",
              "            google.colab.kernel.accessAllowed ? 'block' : 'none';\n",
              "        })();\n",
              "      </script>\n",
              "    </div>\n",
              "\n",
              "    </div>\n",
              "  </div>\n"
            ],
            "application/vnd.google.colaboratory.intrinsic+json": {
              "type": "dataframe",
              "summary": "{\n  \"name\": \"display(data\",\n  \"rows\": 15,\n  \"fields\": [\n    {\n      \"column\": \"id_makanan\",\n      \"properties\": {\n        \"dtype\": \"number\",\n        \"std\": 4,\n        \"min\": 1,\n        \"max\": 15,\n        \"num_unique_values\": 15,\n        \"samples\": [\n          10,\n          12,\n          1\n        ],\n        \"semantic_type\": \"\",\n        \"description\": \"\"\n      }\n    },\n    {\n      \"column\": \"calories\",\n      \"properties\": {\n        \"dtype\": \"number\",\n        \"std\": 142.77998392465176,\n        \"min\": 0.0,\n        \"max\": 513.0,\n        \"num_unique_values\": 15,\n        \"samples\": [\n          126.0,\n          57.0,\n          280.0\n        ],\n        \"semantic_type\": \"\",\n        \"description\": \"\"\n      }\n    },\n    {\n      \"column\": \"proteins\",\n      \"properties\": {\n        \"dtype\": \"number\",\n        \"std\": 9.244550518316956,\n        \"min\": 0.0,\n        \"max\": 23.7,\n        \"num_unique_values\": 13,\n        \"samples\": [\n          0.8,\n          3.4,\n          9.2\n        ],\n        \"semantic_type\": \"\",\n        \"description\": \"\"\n      }\n    },\n    {\n      \"column\": \"fat\",\n      \"properties\": {\n        \"dtype\": \"number\",\n        \"std\": 12.53869439546467,\n        \"min\": 0.2,\n        \"max\": 37.0,\n        \"num_unique_values\": 13,\n        \"samples\": [\n          7.2,\n          0.4,\n          28.4\n        ],\n        \"semantic_type\": \"\",\n        \"description\": \"\"\n      }\n    },\n    {\n      \"column\": \"carbohydrate\",\n      \"properties\": {\n        \"dtype\": \"number\",\n        \"std\": 6.8928741672624705,\n        \"min\": 0.0,\n        \"max\": 21.3,\n        \"num_unique_values\": 9,\n        \"samples\": [\n          8.3,\n          21.3,\n          14.9\n        ],\n        \"semantic_type\": \"\",\n        \"description\": \"\"\n      }\n    },\n    {\n      \"column\": \"name\",\n      \"properties\": {\n        \"dtype\": \"string\",\n        \"num_unique_values\": 15,\n        \"samples\": [\n          \"Anyang Sayur\",\n          \"Apel Malang\",\n          \"Abon\"\n        ],\n        \"semantic_type\": \"\",\n        \"description\": \"\"\n      }\n    },\n    {\n      \"column\": \"label\",\n      \"properties\": {\n        \"dtype\": \"category\",\n        \"num_unique_values\": 6,\n        \"samples\": [\n          \"breakfast, lunch, dinner\",\n          \"snack\",\n          \"breakfast, snack\"\n        ],\n        \"semantic_type\": \"\",\n        \"description\": \"\"\n      }\n    }\n  ]\n}"
            }
          },
          "metadata": {}
        }
      ]
    },
    {
      "cell_type": "code",
      "source": [
        "label_menu = ['breakfast', 'lunch', 'dinner', 'snack']\n",
        "\n",
        "# Jumlah item per kategori\n",
        "print(\"Jumlah Item per Kategori:\")\n",
        "for label in label_menu:\n",
        "    count = data['label'].str.contains(label, na=False).sum()\n",
        "    print(f\"- {label.capitalize()}: {count} item\")"
      ],
      "metadata": {
        "colab": {
          "base_uri": "https://localhost:8080/"
        },
        "id": "MaLurA6x4BbK",
        "outputId": "8541e1f4-5155-40d0-c563-ea08157fc05c"
      },
      "execution_count": 5,
      "outputs": [
        {
          "output_type": "stream",
          "name": "stdout",
          "text": [
            "Jumlah Item per Kategori:\n",
            "- Breakfast: 330 item\n",
            "- Lunch: 460 item\n",
            "- Dinner: 462 item\n",
            "- Snack: 331 item\n"
          ]
        }
      ]
    },
    {
      "source": [
        "label_menu = ['breakfast', 'lunch', 'dinner', 'snack']\n",
        "label_counts = {}\n",
        "\n",
        "# jumlah item per kategori pada label makanan\n",
        "for label in label_menu:\n",
        "    count = data['label'].str.contains(label, na=False).sum()\n",
        "\n",
        "    # capitalized label sebagai key\n",
        "    label_counts[label.capitalize()] = count\n",
        "\n",
        "counts_series = pd.Series(label_counts)\n",
        "\n",
        "plt.figure(figsize=(10, 5))\n",
        "counts_series.plot(kind='barh', color=sns.palettes.mpl_palette('Dark2'))\n",
        "plt.title('Jumlah menu per Kategori')\n",
        "plt.xlabel('Jumlah menu')\n",
        "plt.ylabel('Kategori/label')\n",
        "plt.gca().spines[['top', 'right',]].set_visible(False)\n",
        "plt.show()"
      ],
      "cell_type": "code",
      "metadata": {
        "colab": {
          "base_uri": "https://localhost:8080/",
          "height": 487
        },
        "id": "rq1auo2v3IAJ",
        "outputId": "20ef0e45-5987-4c4e-a515-04da403fdb93"
      },
      "execution_count": 6,
      "outputs": [
        {
          "output_type": "display_data",
          "data": {
            "text/plain": [
              "<Figure size 1000x500 with 1 Axes>"
            ],
            "image/png": "[encoded data removed]"
          },
          "metadata": {}
        }
      ]
    },
    {
      "cell_type": "code",
      "source": [
        "# Data validation\n",
        "data = data.dropna(subset=[\"calories\", \"proteins\", \"fat\", \"carbohydrate\", \"name\", \"label\"])\n",
        "data = data.reset_index(drop=True)"
      ],
      "metadata": {
        "id": "RBLNsQyVEJYQ"
      },
      "execution_count": 7,
      "outputs": []
    },
    {
      "cell_type": "markdown",
      "source": [
        "#### Hitung Kalori Harian (TDEE)"
      ],
      "metadata": {
        "id": "LzBz-YzZEY9i"
      }
    },
    {
      "cell_type": "code",
      "source": [
        "# Hitung REE dengan rumus Mifflin-St Jeor\n",
        "def calc_ree(age, sex, height, weight):\n",
        "    return (10 * weight + 6.25 * height - 5 * age + (5 if sex == \"laki-laki\" else -161))"
      ],
      "metadata": {
        "id": "1E45atgXEZyK"
      },
      "execution_count": 8,
      "outputs": []
    },
    {
      "cell_type": "code",
      "source": [
        "# Get activity factor\n",
        "def get_activity_factor(activity, exercise):\n",
        "    levels = {\n",
        "        \"rendah\": {\"tidak pernah\": 1.2, \"jarang\": 1.3},\n",
        "        \"sedang\": {\"jarang\": 1.375, \"sering\": 1.45},\n",
        "        \"tinggi\": {\"jarang\": 1.55, \"sering\": 1.6}\n",
        "    }\n",
        "    return levels.get(activity, {}).get(exercise, 1.2)"
      ],
      "metadata": {
        "id": "EocQPnm2Efq9"
      },
      "execution_count": 9,
      "outputs": []
    },
    {
      "cell_type": "code",
      "source": [
        "# Calculate TDEE\n",
        "def calc_tdee(age, sex, height, weight, activity, exercise, goal, target_weight):\n",
        "    ree = calc_ree(age, sex, height, weight)\n",
        "    factor = get_activity_factor(activity, exercise)\n",
        "    tdee = ree * factor\n",
        "    if goal == \"Menurunkan Berat Badan\":\n",
        "        tdee -= 500\n",
        "    elif goal == \"Meningkatkan Berat Badan\":\n",
        "        tdee += 500\n",
        "    return max(int(tdee), 1000)   # agar tidak negatif"
      ],
      "metadata": {
        "id": "Jhl6bNKTEg3M"
      },
      "execution_count": 10,
      "outputs": []
    },
    {
      "cell_type": "markdown",
      "source": [
        "#### Split TDEE Menjadi 4 Kategori Makanan"
      ],
      "metadata": {
        "id": "-Gd6V74DEtGh"
      }
    },
    {
      "cell_type": "code",
      "source": [
        "# Split TDEE menjadi 4 Kategori Makanan\n",
        "def split_tdee(tdee):\n",
        "    return {\n",
        "        \"breakfast\": int(tdee * 0.25),  # Breakfast (0.25)\n",
        "        \"lunch\": int(tdee * 0.35),      # Lunch (0.35)\n",
        "        \"dinner\": int(tdee * 0.30),     # Dinner (0.30)\n",
        "        \"snack\": int(tdee * 0.10)       # Snack (0.10)\n",
        "    }                                   # Total (1.00)"
      ],
      "metadata": {
        "id": "J_PaZXtiEwZG"
      },
      "execution_count": 11,
      "outputs": []
    },
    {
      "cell_type": "markdown",
      "source": [
        "#### Rekomendasi Makanan"
      ],
      "metadata": {
        "id": "O_dMnpk7FCcV"
      }
    },
    {
      "cell_type": "code",
      "source": [
        "# Rekomendasi makanan ≤ slot kalori\n",
        "# Max per menu yaitu 100-150 gram (diambil dari artikel hallosehat.com)\n",
        "def recommend_menus(slot, max_calories, max_gram=150, retries=5, exclude_list=None):\n",
        "    if exclude_list is None:\n",
        "        exclude_list = []\n",
        "\n",
        "    label_filter_original = data[data['label'].str.contains(slot)]\n",
        "    label_filter_original = label_filter_original[label_filter_original['calories'] > 0].copy()\n",
        "\n",
        "    # Filter menu\n",
        "    label_filter_original = label_filter_original[~label_filter_original['name'].isin(exclude_list)].copy()\n",
        "\n",
        "\n",
        "    for attempt in range(retries):\n",
        "        label_filter = label_filter_original.copy()\n",
        "        recommended = []\n",
        "        total_cal = 0\n",
        "        current_slot_recommended_names = []\n",
        "\n",
        "        while not label_filter.empty:\n",
        "            food = label_filter.sample(1).iloc[0]\n",
        "            food_cal = food[\"calories\"]\n",
        "\n",
        "            gram_needed = (max_calories - total_cal) / food_cal * 100\n",
        "            gram = min(gram_needed, max_gram)\n",
        "\n",
        "            MIN_GRAM = 50\n",
        "            gram = max(gram, MIN_GRAM)\n",
        "\n",
        "            total_calories = (food[\"calories\"] * gram) / 100\n",
        "\n",
        "            # Jika melebihi batas, jangan tambahkan\n",
        "            if total_cal + total_calories > max_calories:\n",
        "                # Cek apakah ada sisa calories untuk menu lain\n",
        "                label_filter = label_filter[label_filter[\"name\"] != food[\"name\"]]\n",
        "                continue\n",
        "\n",
        "            item = {\n",
        "                \"name\": food[\"name\"],\n",
        "                \"calories\": food[\"calories\"],\n",
        "                \"proteins\": food[\"proteins\"],\n",
        "                \"fat\": food[\"fat\"],\n",
        "                \"carbohydrate\": food[\"carbohydrate\"],\n",
        "                \"grams\": gram,\n",
        "                \"total_calories\": total_calories,\n",
        "                \"total_protein\": (food[\"proteins\"] * gram) / 100,\n",
        "                \"total_fat\": (food[\"fat\"] * gram) / 100,\n",
        "                \"total_carb\": (food[\"carbohydrate\"] * gram) / 100\n",
        "            }\n",
        "\n",
        "            total_cal += item[\"total_calories\"]\n",
        "            recommended.append(item)\n",
        "            current_slot_recommended_names.append(food[\"name\"]) # Add name to the list\n",
        "\n",
        "            label_filter = label_filter[label_filter[\"name\"] != food[\"name\"]]\n",
        "\n",
        "        if total_cal <= max_calories:\n",
        "            return recommended\n",
        "\n",
        "    raise ValueError(f\"Tidak dapat menemukan kombinasi makanan untuk slot '{slot}' yang tidak melebihi {max_calories}.\")"
      ],
      "metadata": {
        "id": "P8-vaeTkJPkH"
      },
      "execution_count": 12,
      "outputs": []
    },
    {
      "cell_type": "markdown",
      "source": [
        "#### Model Inference/input"
      ],
      "metadata": {
        "id": "HNjv0EDOFnYp"
      }
    },
    {
      "cell_type": "markdown",
      "source": [
        "##### Data User/pengguna"
      ],
      "metadata": {
        "id": "VkCj7t7XVvCf"
      }
    },
    {
      "cell_type": "code",
      "source": [
        "# Contoh data user\n",
        "# Contoh 10 pertanyaan\n",
        "user = {\n",
        "    \"age\": 22,\n",
        "    \"sex\": \"laki-laki\",\n",
        "    \"height\": 160,\n",
        "    \"weight\": 50,\n",
        "    \"target_weight\": 60,\n",
        "    \"activity\": \"sedang\",\n",
        "    \"exercise\": \"sering\",\n",
        "    \"snack_habit\": \"sering\",\n",
        "    \"sleep\": 6,\n",
        "    \"goal\": \"Meningkatkan Berat Badan\"\n",
        "}"
      ],
      "metadata": {
        "id": "S3rs_7h2hooa"
      },
      "execution_count": 13,
      "outputs": []
    },
    {
      "cell_type": "code",
      "source": [
        "# Hitung TDEE dan slot\n",
        "tdee = calc_tdee(user[\"age\"], user[\"sex\"], user[\"height\"], user[\"weight\"],\n",
        "                 user[\"activity\"], user[\"exercise\"], user[\"goal\"], user[\"target_weight\"])\n",
        "slots = split_tdee(tdee)\n",
        "\n",
        "# TDEE\n",
        "display(Markdown(f\"Kalori Harian (TDEE): **{tdee} kcal**\"))\n",
        "\n",
        "# Inisialisasi\n",
        "rekomendasi = {}\n",
        "recommended_items_across_slots = []\n",
        "\n",
        "for slot in [\"breakfast\", \"lunch\", \"dinner\", \"snack\"]:\n",
        "    limit = slots[slot]\n",
        "\n",
        "    menu_list = recommend_menus(slot, limit, exclude_list=recommended_items_across_slots)\n",
        "    rekomendasi[slot] = menu_list\n",
        "\n",
        "    # filter menu yang muncul\n",
        "    for item in menu_list:\n",
        "        recommended_items_across_slots.append(item[\"name\"])\n",
        "\n",
        "    display(Markdown(f\"## {slot.capitalize()}\"))\n",
        "    slot_total = sum(item[\"total_calories\"] for item in menu_list)\n",
        "\n",
        "    html_content = '<div style=\"display: flex; flex-wrap: wrap; gap: 24px;\">'\n",
        "\n",
        "    for item in menu_list:\n",
        "        html_content += f\"\"\"\n",
        "        <div style=\"width: 220px; border-radius: 10px; border: 1px solid #ddd; padding: 10px;\">\n",
        "            <div style=\"padding-top: 8px; min-height: 120px;\">\n",
        "                <div><b>{item['name']}</b></div>\n",
        "                <div>porsi: {item['grams']:.0f} gram</div>\n",
        "                <div>kalori: {item['total_calories']:.1f} kcal</div>\n",
        "                <div>protein: {item['total_protein']:.1f} g</div>\n",
        "                <div>lemak: {item['total_fat']:.1f} g</div>\n",
        "                <div>karbo: {item['total_carb']:.1f} g</div>\n",
        "            </div>\n",
        "        </div>\n",
        "        \"\"\"\n",
        "\n",
        "    html_content += '</div>'\n",
        "    display(HTML(html_content))\n",
        "    display(Markdown(f\"**Total Kalori untuk {slot.capitalize()}:** {slot_total:.1f} kcal\"))"
      ],
      "metadata": {
        "colab": {
          "base_uri": "https://localhost:8080/",
          "height": 1000
        },
        "id": "xiSI3AFvFlfT",
        "outputId": "07e98592-91e4-4a76-e17d-a0b93c22ce71"
      },
      "execution_count": 20,
      "outputs": [
        {
          "output_type": "display_data",
          "data": {
            "text/plain": [
              "<IPython.core.display.Markdown object>"
            ],
            "text/markdown": "Kalori Harian (TDEE): **2522 kcal**"
          },
          "metadata": {}
        },
        {
          "output_type": "display_data",
          "data": {
            "text/plain": [
              "<IPython.core.display.Markdown object>"
            ],
            "text/markdown": "## Breakfast"
          },
          "metadata": {}
        },
        {
          "output_type": "display_data",
          "data": {
            "text/plain": [
              "<IPython.core.display.HTML object>"
            ],
            "text/html": [
              "<div style=\"display: flex; flex-wrap: wrap; gap: 24px;\">\n",
              "        <div style=\"width: 220px; border-radius: 10px; border: 1px solid #ddd; padding: 10px;\">\n",
              "            <div style=\"padding-top: 8px; min-height: 120px;\">\n",
              "                <div><b>Jeruk Bali</b></div>\n",
              "                <div>porsi: 150 gram</div>\n",
              "                <div>kalori: 72.0 kcal</div>\n",
              "                <div>protein: 0.9 g</div>\n",
              "                <div>lemak: 0.3 g</div>\n",
              "                <div>karbo: 18.6 g</div>\n",
              "            </div>\n",
              "        </div>\n",
              "        \n",
              "        <div style=\"width: 220px; border-radius: 10px; border: 1px solid #ddd; padding: 10px;\">\n",
              "            <div style=\"padding-top: 8px; min-height: 120px;\">\n",
              "                <div><b>Nasi Uduk </b></div>\n",
              "                <div>porsi: 150 gram</div>\n",
              "                <div>kalori: 379.9 kcal</div>\n",
              "                <div>protein: 6.5 g</div>\n",
              "                <div>lemak: 31.5 g</div>\n",
              "                <div>karbo: 17.6 g</div>\n",
              "            </div>\n",
              "        </div>\n",
              "        \n",
              "        <div style=\"width: 220px; border-radius: 10px; border: 1px solid #ddd; padding: 10px;\">\n",
              "            <div style=\"padding-top: 8px; min-height: 120px;\">\n",
              "                <div><b>Roti Gandum</b></div>\n",
              "                <div>porsi: 72 gram</div>\n",
              "                <div>kalori: 178.1 kcal</div>\n",
              "                <div>protein: 5.6 g</div>\n",
              "                <div>lemak: 1.1 g</div>\n",
              "                <div>karbo: 35.5 g</div>\n",
              "            </div>\n",
              "        </div>\n",
              "        </div>"
            ]
          },
          "metadata": {}
        },
        {
          "output_type": "display_data",
          "data": {
            "text/plain": [
              "<IPython.core.display.Markdown object>"
            ],
            "text/markdown": "**Total Kalori untuk Breakfast:** 630.0 kcal"
          },
          "metadata": {}
        },
        {
          "output_type": "display_data",
          "data": {
            "text/plain": [
              "<IPython.core.display.Markdown object>"
            ],
            "text/markdown": "## Lunch"
          },
          "metadata": {}
        },
        {
          "output_type": "display_data",
          "data": {
            "text/plain": [
              "<IPython.core.display.HTML object>"
            ],
            "text/html": [
              "<div style=\"display: flex; flex-wrap: wrap; gap: 24px;\">\n",
              "        <div style=\"width: 220px; border-radius: 10px; border: 1px solid #ddd; padding: 10px;\">\n",
              "            <div style=\"padding-top: 8px; min-height: 120px;\">\n",
              "                <div><b>Tempe Kacang Belimbing</b></div>\n",
              "                <div>porsi: 150 gram</div>\n",
              "                <div>kalori: 318.0 kcal</div>\n",
              "                <div>protein: 26.2 g</div>\n",
              "                <div>lemak: 15.0 g</div>\n",
              "                <div>karbo: 19.4 g</div>\n",
              "            </div>\n",
              "        </div>\n",
              "        \n",
              "        <div style=\"width: 220px; border-radius: 10px; border: 1px solid #ddd; padding: 10px;\">\n",
              "            <div style=\"padding-top: 8px; min-height: 120px;\">\n",
              "                <div><b>Dada Ayam Goreng Kremes</b></div>\n",
              "                <div>porsi: 150 gram</div>\n",
              "                <div>kalori: 442.5 kcal</div>\n",
              "                <div>protein: 58.8 g</div>\n",
              "                <div>lemak: 20.4 g</div>\n",
              "                <div>karbo: 1.5 g</div>\n",
              "            </div>\n",
              "        </div>\n",
              "        \n",
              "        <div style=\"width: 220px; border-radius: 10px; border: 1px solid #ddd; padding: 10px;\">\n",
              "            <div style=\"padding-top: 8px; min-height: 120px;\">\n",
              "                <div><b>Ikan Belida Goreng</b></div>\n",
              "                <div>porsi: 150 gram</div>\n",
              "                <div>kalori: 120.0 kcal</div>\n",
              "                <div>protein: 22.1 g</div>\n",
              "                <div>lemak: 2.1 g</div>\n",
              "                <div>karbo: 3.3 g</div>\n",
              "            </div>\n",
              "        </div>\n",
              "        </div>"
            ]
          },
          "metadata": {}
        },
        {
          "output_type": "display_data",
          "data": {
            "text/plain": [
              "<IPython.core.display.Markdown object>"
            ],
            "text/markdown": "**Total Kalori untuk Lunch:** 880.5 kcal"
          },
          "metadata": {}
        },
        {
          "output_type": "display_data",
          "data": {
            "text/plain": [
              "<IPython.core.display.Markdown object>"
            ],
            "text/markdown": "## Dinner"
          },
          "metadata": {}
        },
        {
          "output_type": "display_data",
          "data": {
            "text/plain": [
              "<IPython.core.display.HTML object>"
            ],
            "text/html": [
              "<div style=\"display: flex; flex-wrap: wrap; gap: 24px;\">\n",
              "        <div style=\"width: 220px; border-radius: 10px; border: 1px solid #ddd; padding: 10px;\">\n",
              "            <div style=\"padding-top: 8px; min-height: 120px;\">\n",
              "                <div><b>Ketupat Tahu </b></div>\n",
              "                <div>porsi: 150 gram</div>\n",
              "                <div>kalori: 164.4 kcal</div>\n",
              "                <div>protein: 3.9 g</div>\n",
              "                <div>lemak: 3.9 g</div>\n",
              "                <div>karbo: 27.9 g</div>\n",
              "            </div>\n",
              "        </div>\n",
              "        \n",
              "        <div style=\"width: 220px; border-radius: 10px; border: 1px solid #ddd; padding: 10px;\">\n",
              "            <div style=\"padding-top: 8px; min-height: 120px;\">\n",
              "                <div><b>Ketoprak</b></div>\n",
              "                <div>porsi: 150 gram</div>\n",
              "                <div>kalori: 229.5 kcal</div>\n",
              "                <div>protein: 11.8 g</div>\n",
              "                <div>lemak: 11.6 g</div>\n",
              "                <div>karbo: 19.5 g</div>\n",
              "            </div>\n",
              "        </div>\n",
              "        \n",
              "        <div style=\"width: 220px; border-radius: 10px; border: 1px solid #ddd; padding: 10px;\">\n",
              "            <div style=\"padding-top: 8px; min-height: 120px;\">\n",
              "                <div><b>Ubi Jalar Manis</b></div>\n",
              "                <div>porsi: 150 gram</div>\n",
              "                <div>kalori: 124.5 kcal</div>\n",
              "                <div>protein: 2.2 g</div>\n",
              "                <div>lemak: 0.3 g</div>\n",
              "                <div>karbo: 28.2 g</div>\n",
              "            </div>\n",
              "        </div>\n",
              "        \n",
              "        <div style=\"width: 220px; border-radius: 10px; border: 1px solid #ddd; padding: 10px;\">\n",
              "            <div style=\"padding-top: 8px; min-height: 120px;\">\n",
              "                <div><b>Mie Basah</b></div>\n",
              "                <div>porsi: 150 gram</div>\n",
              "                <div>kalori: 129.0 kcal</div>\n",
              "                <div>protein: 0.9 g</div>\n",
              "                <div>lemak: 5.0 g</div>\n",
              "                <div>karbo: 21.0 g</div>\n",
              "            </div>\n",
              "        </div>\n",
              "        \n",
              "        <div style=\"width: 220px; border-radius: 10px; border: 1px solid #ddd; padding: 10px;\">\n",
              "            <div style=\"padding-top: 8px; min-height: 120px;\">\n",
              "                <div><b>Kambing Daging Goreng</b></div>\n",
              "                <div>porsi: 73 gram</div>\n",
              "                <div>kalori: 108.6 kcal</div>\n",
              "                <div>protein: 12.1 g</div>\n",
              "                <div>lemak: 6.7 g</div>\n",
              "                <div>karbo: 0.0 g</div>\n",
              "            </div>\n",
              "        </div>\n",
              "        </div>"
            ]
          },
          "metadata": {}
        },
        {
          "output_type": "display_data",
          "data": {
            "text/plain": [
              "<IPython.core.display.Markdown object>"
            ],
            "text/markdown": "**Total Kalori untuk Dinner:** 756.0 kcal"
          },
          "metadata": {}
        },
        {
          "output_type": "display_data",
          "data": {
            "text/plain": [
              "<IPython.core.display.Markdown object>"
            ],
            "text/markdown": "## Snack"
          },
          "metadata": {}
        },
        {
          "output_type": "display_data",
          "data": {
            "text/plain": [
              "<IPython.core.display.HTML object>"
            ],
            "text/html": [
              "<div style=\"display: flex; flex-wrap: wrap; gap: 24px;\">\n",
              "        <div style=\"width: 220px; border-radius: 10px; border: 1px solid #ddd; padding: 10px;\">\n",
              "            <div style=\"padding-top: 8px; min-height: 120px;\">\n",
              "                <div><b>Carica Papaya</b></div>\n",
              "                <div>porsi: 150 gram</div>\n",
              "                <div>kalori: 36.0 kcal</div>\n",
              "                <div>protein: 2.9 g</div>\n",
              "                <div>lemak: 0.3 g</div>\n",
              "                <div>karbo: 5.5 g</div>\n",
              "            </div>\n",
              "        </div>\n",
              "        \n",
              "        <div style=\"width: 220px; border-radius: 10px; border: 1px solid #ddd; padding: 10px;\">\n",
              "            <div style=\"padding-top: 8px; min-height: 120px;\">\n",
              "                <div><b>Emping Melinjo</b></div>\n",
              "                <div>porsi: 150 gram</div>\n",
              "                <div>kalori: 123.0 kcal</div>\n",
              "                <div>protein: 8.7 g</div>\n",
              "                <div>lemak: 1.9 g</div>\n",
              "                <div>karbo: 17.6 g</div>\n",
              "            </div>\n",
              "        </div>\n",
              "        \n",
              "        <div style=\"width: 220px; border-radius: 10px; border: 1px solid #ddd; padding: 10px;\">\n",
              "            <div style=\"padding-top: 8px; min-height: 120px;\">\n",
              "                <div><b>Buah Mangga</b></div>\n",
              "                <div>porsi: 95 gram</div>\n",
              "                <div>kalori: 93.0 kcal</div>\n",
              "                <div>protein: 1.3 g</div>\n",
              "                <div>lemak: 0.2 g</div>\n",
              "                <div>karbo: 24.1 g</div>\n",
              "            </div>\n",
              "        </div>\n",
              "        </div>"
            ]
          },
          "metadata": {}
        },
        {
          "output_type": "display_data",
          "data": {
            "text/plain": [
              "<IPython.core.display.Markdown object>"
            ],
            "text/markdown": "**Total Kalori untuk Snack:** 252.0 kcal"
          },
          "metadata": {}
        }
      ]
    },
    {
      "cell_type": "markdown",
      "source": [
        "#### Konversi ke TF.js Model"
      ],
      "metadata": {
        "id": "mr_jmNWTFjFG"
      }
    },
    {
      "cell_type": "code",
      "source": [
        "x_dummy = []\n",
        "y_dummy = []\n",
        "\n",
        "# Mapping (one-hot encoding)\n",
        "slot_to_onehot = {\n",
        "    \"breakfast\": [1, 0, 0, 0],\n",
        "    \"lunch\":     [0, 1, 0, 0],\n",
        "    \"dinner\":    [0, 0, 1, 0],\n",
        "    \"snack\":     [0, 0, 0, 1]\n",
        "}\n",
        "\n",
        "for slot, items in rekomendasi.items():\n",
        "    for item in items:\n",
        "        # fitur (kalori, protein, lemak, karbohidrat)\n",
        "        x_dummy.append([item[\"calories\"], item[\"proteins\"], item[\"fat\"], item[\"carbohydrate\"]])\n",
        "        y_dummy.append(slot_to_onehot[slot])\n",
        "\n",
        "x_dummy = np.array(x_dummy, dtype=np.float32)\n",
        "y_dummy = np.array(y_dummy, dtype=np.float32)"
      ],
      "metadata": {
        "id": "L6ZOX8v_Tb4d"
      },
      "execution_count": 21,
      "outputs": []
    },
    {
      "cell_type": "code",
      "source": [
        "# Model rekomendasi\n",
        "model = tf.keras.Sequential([\n",
        "    tf.keras.layers.Input(shape=(4,)),              # input layer (kalori, protein, lemak, karbo)\n",
        "    tf.keras.layers.Dense(8, activation='relu'),    # 8 unit hidden layer dan aktivasi ReLU\n",
        "    tf.keras.layers.Dense(4, activation='softmax')  # 4 output: breakfast, lunch, dinner, snack\n",
        "])\n",
        "\n",
        "model.compile(optimizer='adam', loss='categorical_crossentropy')"
      ],
      "metadata": {
        "id": "1G06L10Ph5fx"
      },
      "execution_count": 22,
      "outputs": []
    },
    {
      "cell_type": "code",
      "source": [
        "# Train dummy (agar bisa disimpan)\n",
        "model.fit(x_dummy, y_dummy, epochs=3)"
      ],
      "metadata": {
        "colab": {
          "base_uri": "https://localhost:8080/"
        },
        "id": "lu9mI6-jh6F4",
        "outputId": "e90a0e58-6bae-4f99-bfc5-ff0925cc8ea3"
      },
      "execution_count": 23,
      "outputs": [
        {
          "output_type": "stream",
          "name": "stdout",
          "text": [
            "Epoch 1/3\n",
            "\u001b[1m1/1\u001b[0m \u001b[32m━━━━━━━━━━━━━━━━━━━━\u001b[0m\u001b[37m\u001b[0m \u001b[1m1s\u001b[0m 1s/step - loss: 27.3831\n",
            "Epoch 2/3\n",
            "\u001b[1m1/1\u001b[0m \u001b[32m━━━━━━━━━━━━━━━━━━━━\u001b[0m\u001b[37m\u001b[0m \u001b[1m0s\u001b[0m 479ms/step - loss: 26.7127\n",
            "Epoch 3/3\n",
            "\u001b[1m1/1\u001b[0m \u001b[32m━━━━━━━━━━━━━━━━━━━━\u001b[0m\u001b[37m\u001b[0m \u001b[1m0s\u001b[0m 60ms/step - loss: 26.0424\n"
          ]
        },
        {
          "output_type": "execute_result",
          "data": {
            "text/plain": [
              "<keras.src.callbacks.history.History at 0x7f4f30fc1c90>"
            ]
          },
          "metadata": {},
          "execution_count": 23
        }
      ]
    },
    {
      "cell_type": "code",
      "source": [
        "# Simpan ke .h5\n",
        "model.save(\"rekomendasi_makan.h5\")"
      ],
      "metadata": {
        "id": "ELttS-woiCWU"
      },
      "execution_count": null,
      "outputs": []
    },
    {
      "cell_type": "code",
      "source": [
        "# Konversi ke tfjs\n",
        "!pip install tensorflowjs\n",
        "!tensorflowjs_converter --input_format keras rekomendasi_makan.h5 model_tfjs/"
      ],
      "metadata": {
        "id": "jSp7fJo8iD7F"
      },
      "execution_count": null,
      "outputs": []
    },
    {
      "cell_type": "code",
      "source": [
        "# zip model\n",
        "!zip -r model_tfjs.zip model_tfjs/"
      ],
      "metadata": {
        "colab": {
          "base_uri": "https://localhost:8080/"
        },
        "id": "j_ERDB1uiFr1",
        "outputId": "b2a277b2-ed81-4679-e783-39a11f963c24"
      },
      "execution_count": 26,
      "outputs": [
        {
          "output_type": "stream",
          "name": "stdout",
          "text": [
            "  adding: model_tfjs/ (stored 0%)\n",
            "  adding: model_tfjs/model.json (deflated 72%)\n",
            "  adding: model_tfjs/group1-shard1of1.bin (stored 0%)\n"
          ]
        }
      ]
    },
    {
      "cell_type": "code",
      "source": [
        "!ls"
      ],
      "metadata": {
        "colab": {
          "base_uri": "https://localhost:8080/"
        },
        "id": "FPrsm1P1bPE3",
        "outputId": "035b9201-0280-45f5-ec56-7eed65c4b0a0"
      },
      "execution_count": 27,
      "outputs": [
        {
          "output_type": "stream",
          "name": "stdout",
          "text": [
            "model_tfjs  model_tfjs.zip  nutrition.csv  rekomendasi_makan.h5  sample_data\n"
          ]
        }
      ]
    },
    {
      "cell_type": "markdown",
      "source": [
        "#### Evaluasi Precision"
      ],
      "metadata": {
        "id": "vN51jAQ7Thmz"
      }
    },
    {
      "cell_type": "code",
      "source": [
        "# Evaluasi dengan precision\n",
        "# Apakah makanan sesuai label slot?\n",
        "def evaluasi(result):\n",
        "    correct = 0\n",
        "    total = 0\n",
        "    for slot, items in result.items():\n",
        "        for item in items:\n",
        "            if slot in data[data[\"name\"] == item[\"name\"]][\"label\"].values[0]:\n",
        "                correct += 1\n",
        "            total += 1\n",
        "    precision = correct / total if total else 0\n",
        "    return precision\n",
        "\n",
        "precision = evaluasi(rekomendasi)\n",
        "display(Markdown(f\"Evaluasi (Precision): **{precision:.2f}**\"))"
      ],
      "metadata": {
        "colab": {
          "base_uri": "https://localhost:8080/",
          "height": 46
        },
        "id": "7mdqY_ycTi4A",
        "outputId": "ba905a46-75dd-45d7-a19d-236d91e81ec1"
      },
      "execution_count": 28,
      "outputs": [
        {
          "output_type": "display_data",
          "data": {
            "text/plain": [
              "<IPython.core.display.Markdown object>"
            ],
            "text/markdown": "Evaluasi (Precision): **1.00**"
          },
          "metadata": {}
        }
      ]
    }
  ]
}