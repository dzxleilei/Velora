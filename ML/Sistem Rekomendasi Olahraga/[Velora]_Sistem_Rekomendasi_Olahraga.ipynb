{
  "nbformat": 4,
  "nbformat_minor": 0,
  "metadata": {
    "colab": {
      "provenance": []
    },
    "kernelspec": {
      "name": "python3",
      "display_name": "Python 3"
    },
    "language_info": {
      "name": "python"
    }
  },
  "cells": [
    {
      "cell_type": "markdown",
      "source": [
        "Sistem Rekomendasi Olahraga (Hybrid CF + CBF)\n",
        "------------------------------------------------------\n",
        "Dokumentasi ini menjelaskan alur:\n",
        "1. Import library\n",
        "2. Muat dataset\n",
        "3. Pra-proses data (gabung, hitung kalori, encoding)\n",
        "4. Membangun dan melatih model hybrid (Deep Learning)\n",
        "5. Membangun matriks Content-Based (TF-IDF + Cosine)\n",
        "6. Menghasilkan rekomendasi hybrid\n",
        "\"\"\""
      ],
      "metadata": {
        "id": "rRBn-XiqQixi"
      }
    },
    {
      "cell_type": "markdown",
      "source": [
        "# Import Library"
      ],
      "metadata": {
        "id": "5Bp1_0edAIfn"
      }
    },
    {
      "cell_type": "code",
      "source": [
        "!pip install tensorflowjs"
      ],
      "metadata": {
        "collapsed": true,
        "colab": {
          "base_uri": "https://localhost:8080/"
        },
        "id": "cTyLd8Fu49S0",
        "outputId": "0cd78706-02f0-41ea-ae02-f62387d4d6e4"
      },
      "execution_count": 41,
      "outputs": [
        {
          "output_type": "stream",
          "name": "stdout",
          "text": [
            "Requirement already satisfied: tensorflowjs in /usr/local/lib/python3.11/dist-packages (4.22.0)\n",
            "Requirement already satisfied: flax>=0.7.2 in /usr/local/lib/python3.11/dist-packages (from tensorflowjs) (0.10.6)\n",
            "Requirement already satisfied: importlib_resources>=5.9.0 in /usr/local/lib/python3.11/dist-packages (from tensorflowjs) (6.5.2)\n",
            "Requirement already satisfied: jax>=0.4.13 in /usr/local/lib/python3.11/dist-packages (from tensorflowjs) (0.5.2)\n",
            "Requirement already satisfied: jaxlib>=0.4.13 in /usr/local/lib/python3.11/dist-packages (from tensorflowjs) (0.5.1)\n",
            "Requirement already satisfied: tensorflow<3,>=2.13.0 in /usr/local/lib/python3.11/dist-packages (from tensorflowjs) (2.18.0)\n",
            "Requirement already satisfied: tf-keras>=2.13.0 in /usr/local/lib/python3.11/dist-packages (from tensorflowjs) (2.18.0)\n",
            "Requirement already satisfied: tensorflow-decision-forests>=1.5.0 in /usr/local/lib/python3.11/dist-packages (from tensorflowjs) (1.11.0)\n",
            "Requirement already satisfied: six<2,>=1.16.0 in /usr/local/lib/python3.11/dist-packages (from tensorflowjs) (1.17.0)\n",
            "Requirement already satisfied: tensorflow-hub>=0.16.1 in /usr/local/lib/python3.11/dist-packages (from tensorflowjs) (0.16.1)\n",
            "Requirement already satisfied: packaging~=23.1 in /usr/local/lib/python3.11/dist-packages (from tensorflowjs) (23.2)\n",
            "Requirement already satisfied: numpy>=1.23.2 in /usr/local/lib/python3.11/dist-packages (from flax>=0.7.2->tensorflowjs) (2.0.2)\n",
            "Requirement already satisfied: msgpack in /usr/local/lib/python3.11/dist-packages (from flax>=0.7.2->tensorflowjs) (1.1.0)\n",
            "Requirement already satisfied: optax in /usr/local/lib/python3.11/dist-packages (from flax>=0.7.2->tensorflowjs) (0.2.4)\n",
            "Requirement already satisfied: orbax-checkpoint in /usr/local/lib/python3.11/dist-packages (from flax>=0.7.2->tensorflowjs) (0.11.13)\n",
            "Requirement already satisfied: tensorstore in /usr/local/lib/python3.11/dist-packages (from flax>=0.7.2->tensorflowjs) (0.1.74)\n",
            "Requirement already satisfied: rich>=11.1 in /usr/local/lib/python3.11/dist-packages (from flax>=0.7.2->tensorflowjs) (13.9.4)\n",
            "Requirement already satisfied: typing_extensions>=4.2 in /usr/local/lib/python3.11/dist-packages (from flax>=0.7.2->tensorflowjs) (4.13.2)\n",
            "Requirement already satisfied: PyYAML>=5.4.1 in /usr/local/lib/python3.11/dist-packages (from flax>=0.7.2->tensorflowjs) (6.0.2)\n",
            "Requirement already satisfied: treescope>=0.1.7 in /usr/local/lib/python3.11/dist-packages (from flax>=0.7.2->tensorflowjs) (0.1.9)\n",
            "Requirement already satisfied: ml_dtypes>=0.4.0 in /usr/local/lib/python3.11/dist-packages (from jax>=0.4.13->tensorflowjs) (0.4.1)\n",
            "Requirement already satisfied: opt_einsum in /usr/local/lib/python3.11/dist-packages (from jax>=0.4.13->tensorflowjs) (3.4.0)\n",
            "Requirement already satisfied: scipy>=1.11.1 in /usr/local/lib/python3.11/dist-packages (from jax>=0.4.13->tensorflowjs) (1.15.3)\n",
            "Requirement already satisfied: absl-py>=1.0.0 in /usr/local/lib/python3.11/dist-packages (from tensorflow<3,>=2.13.0->tensorflowjs) (1.4.0)\n",
            "Requirement already satisfied: astunparse>=1.6.0 in /usr/local/lib/python3.11/dist-packages (from tensorflow<3,>=2.13.0->tensorflowjs) (1.6.3)\n",
            "Requirement already satisfied: flatbuffers>=24.3.25 in /usr/local/lib/python3.11/dist-packages (from tensorflow<3,>=2.13.0->tensorflowjs) (25.2.10)\n",
            "Requirement already satisfied: gast!=0.5.0,!=0.5.1,!=0.5.2,>=0.2.1 in /usr/local/lib/python3.11/dist-packages (from tensorflow<3,>=2.13.0->tensorflowjs) (0.6.0)\n",
            "Requirement already satisfied: google-pasta>=0.1.1 in /usr/local/lib/python3.11/dist-packages (from tensorflow<3,>=2.13.0->tensorflowjs) (0.2.0)\n",
            "Requirement already satisfied: libclang>=13.0.0 in /usr/local/lib/python3.11/dist-packages (from tensorflow<3,>=2.13.0->tensorflowjs) (18.1.1)\n",
            "Requirement already satisfied: protobuf!=4.21.0,!=4.21.1,!=4.21.2,!=4.21.3,!=4.21.4,!=4.21.5,<6.0.0dev,>=3.20.3 in /usr/local/lib/python3.11/dist-packages (from tensorflow<3,>=2.13.0->tensorflowjs) (5.29.5)\n",
            "Requirement already satisfied: requests<3,>=2.21.0 in /usr/local/lib/python3.11/dist-packages (from tensorflow<3,>=2.13.0->tensorflowjs) (2.32.3)\n",
            "Requirement already satisfied: setuptools in /usr/local/lib/python3.11/dist-packages (from tensorflow<3,>=2.13.0->tensorflowjs) (75.2.0)\n",
            "Requirement already satisfied: termcolor>=1.1.0 in /usr/local/lib/python3.11/dist-packages (from tensorflow<3,>=2.13.0->tensorflowjs) (3.1.0)\n",
            "Requirement already satisfied: wrapt>=1.11.0 in /usr/local/lib/python3.11/dist-packages (from tensorflow<3,>=2.13.0->tensorflowjs) (1.17.2)\n",
            "Requirement already satisfied: grpcio<2.0,>=1.24.3 in /usr/local/lib/python3.11/dist-packages (from tensorflow<3,>=2.13.0->tensorflowjs) (1.71.0)\n",
            "Requirement already satisfied: tensorboard<2.19,>=2.18 in /usr/local/lib/python3.11/dist-packages (from tensorflow<3,>=2.13.0->tensorflowjs) (2.18.0)\n",
            "Requirement already satisfied: keras>=3.5.0 in /usr/local/lib/python3.11/dist-packages (from tensorflow<3,>=2.13.0->tensorflowjs) (3.8.0)\n",
            "Requirement already satisfied: h5py>=3.11.0 in /usr/local/lib/python3.11/dist-packages (from tensorflow<3,>=2.13.0->tensorflowjs) (3.13.0)\n",
            "Requirement already satisfied: tensorflow-io-gcs-filesystem>=0.23.1 in /usr/local/lib/python3.11/dist-packages (from tensorflow<3,>=2.13.0->tensorflowjs) (0.37.1)\n",
            "Requirement already satisfied: pandas in /usr/local/lib/python3.11/dist-packages (from tensorflow-decision-forests>=1.5.0->tensorflowjs) (2.2.2)\n",
            "Requirement already satisfied: wheel in /usr/local/lib/python3.11/dist-packages (from tensorflow-decision-forests>=1.5.0->tensorflowjs) (0.45.1)\n",
            "Requirement already satisfied: wurlitzer in /usr/local/lib/python3.11/dist-packages (from tensorflow-decision-forests>=1.5.0->tensorflowjs) (3.1.1)\n",
            "Requirement already satisfied: ydf in /usr/local/lib/python3.11/dist-packages (from tensorflow-decision-forests>=1.5.0->tensorflowjs) (0.12.0)\n",
            "Requirement already satisfied: namex in /usr/local/lib/python3.11/dist-packages (from keras>=3.5.0->tensorflow<3,>=2.13.0->tensorflowjs) (0.1.0)\n",
            "Requirement already satisfied: optree in /usr/local/lib/python3.11/dist-packages (from keras>=3.5.0->tensorflow<3,>=2.13.0->tensorflowjs) (0.16.0)\n",
            "Requirement already satisfied: charset-normalizer<4,>=2 in /usr/local/lib/python3.11/dist-packages (from requests<3,>=2.21.0->tensorflow<3,>=2.13.0->tensorflowjs) (3.4.2)\n",
            "Requirement already satisfied: idna<4,>=2.5 in /usr/local/lib/python3.11/dist-packages (from requests<3,>=2.21.0->tensorflow<3,>=2.13.0->tensorflowjs) (3.10)\n",
            "Requirement already satisfied: urllib3<3,>=1.21.1 in /usr/local/lib/python3.11/dist-packages (from requests<3,>=2.21.0->tensorflow<3,>=2.13.0->tensorflowjs) (2.4.0)\n",
            "Requirement already satisfied: certifi>=2017.4.17 in /usr/local/lib/python3.11/dist-packages (from requests<3,>=2.21.0->tensorflow<3,>=2.13.0->tensorflowjs) (2025.4.26)\n",
            "Requirement already satisfied: markdown-it-py>=2.2.0 in /usr/local/lib/python3.11/dist-packages (from rich>=11.1->flax>=0.7.2->tensorflowjs) (3.0.0)\n",
            "Requirement already satisfied: pygments<3.0.0,>=2.13.0 in /usr/local/lib/python3.11/dist-packages (from rich>=11.1->flax>=0.7.2->tensorflowjs) (2.19.1)\n",
            "Requirement already satisfied: markdown>=2.6.8 in /usr/local/lib/python3.11/dist-packages (from tensorboard<2.19,>=2.18->tensorflow<3,>=2.13.0->tensorflowjs) (3.8)\n",
            "Requirement already satisfied: tensorboard-data-server<0.8.0,>=0.7.0 in /usr/local/lib/python3.11/dist-packages (from tensorboard<2.19,>=2.18->tensorflow<3,>=2.13.0->tensorflowjs) (0.7.2)\n",
            "Requirement already satisfied: werkzeug>=1.0.1 in /usr/local/lib/python3.11/dist-packages (from tensorboard<2.19,>=2.18->tensorflow<3,>=2.13.0->tensorflowjs) (3.1.3)\n",
            "Requirement already satisfied: chex>=0.1.87 in /usr/local/lib/python3.11/dist-packages (from optax->flax>=0.7.2->tensorflowjs) (0.1.89)\n",
            "Requirement already satisfied: etils[epy] in /usr/local/lib/python3.11/dist-packages (from optax->flax>=0.7.2->tensorflowjs) (1.12.2)\n",
            "Requirement already satisfied: nest_asyncio in /usr/local/lib/python3.11/dist-packages (from orbax-checkpoint->flax>=0.7.2->tensorflowjs) (1.6.0)\n",
            "Requirement already satisfied: humanize in /usr/local/lib/python3.11/dist-packages (from orbax-checkpoint->flax>=0.7.2->tensorflowjs) (4.12.3)\n",
            "Requirement already satisfied: simplejson>=3.16.0 in /usr/local/lib/python3.11/dist-packages (from orbax-checkpoint->flax>=0.7.2->tensorflowjs) (3.20.1)\n",
            "Requirement already satisfied: python-dateutil>=2.8.2 in /usr/local/lib/python3.11/dist-packages (from pandas->tensorflow-decision-forests>=1.5.0->tensorflowjs) (2.9.0.post0)\n",
            "Requirement already satisfied: pytz>=2020.1 in /usr/local/lib/python3.11/dist-packages (from pandas->tensorflow-decision-forests>=1.5.0->tensorflowjs) (2025.2)\n",
            "Requirement already satisfied: tzdata>=2022.7 in /usr/local/lib/python3.11/dist-packages (from pandas->tensorflow-decision-forests>=1.5.0->tensorflowjs) (2025.2)\n",
            "Requirement already satisfied: toolz>=0.9.0 in /usr/local/lib/python3.11/dist-packages (from chex>=0.1.87->optax->flax>=0.7.2->tensorflowjs) (0.12.1)\n",
            "Requirement already satisfied: mdurl~=0.1 in /usr/local/lib/python3.11/dist-packages (from markdown-it-py>=2.2.0->rich>=11.1->flax>=0.7.2->tensorflowjs) (0.1.2)\n",
            "Requirement already satisfied: MarkupSafe>=2.1.1 in /usr/local/lib/python3.11/dist-packages (from werkzeug>=1.0.1->tensorboard<2.19,>=2.18->tensorflow<3,>=2.13.0->tensorflowjs) (3.0.2)\n",
            "Requirement already satisfied: fsspec in /usr/local/lib/python3.11/dist-packages (from etils[epath,epy]->orbax-checkpoint->flax>=0.7.2->tensorflowjs) (2025.3.2)\n",
            "Requirement already satisfied: zipp in /usr/local/lib/python3.11/dist-packages (from etils[epath,epy]->orbax-checkpoint->flax>=0.7.2->tensorflowjs) (3.22.0)\n"
          ]
        }
      ]
    },
    {
      "cell_type": "code",
      "source": [
        "import pandas as pd\n",
        "import numpy as np\n",
        "\n",
        "# TensorFlow / Keras untuk model hybrid (Collaborative Filtering + Content)\n",
        "import tensorflow as tf\n",
        "from tensorflow import keras\n",
        "import tensorflowjs as tfjs\n",
        "from tensorflow.keras import layers\n",
        "\n",
        "# Scikit-Learn untuk encoding dan TF-IDF / cosine similarity\n",
        "from sklearn.preprocessing import OneHotEncoder\n",
        "from sklearn.feature_extraction.text import TfidfVectorizer\n",
        "from sklearn.metrics.pairwise import cosine_similarity\n",
        "\n",
        "# Matplotlib untuk visualisasi metrik training\n",
        "import matplotlib.pyplot as plt\n",
        "\n",
        "# Colab untuk menyimpan file\n",
        "from google.colab import files"
      ],
      "metadata": {
        "id": "4QeSY4sdALBb"
      },
      "execution_count": 42,
      "outputs": []
    },
    {
      "cell_type": "markdown",
      "source": [
        "# Data Loading"
      ],
      "metadata": {
        "id": "MAwyJK77AFJ-"
      }
    },
    {
      "cell_type": "code",
      "execution_count": 43,
      "metadata": {
        "id": "n3AmSqCGAbLs"
      },
      "outputs": [],
      "source": [
        "def load_datasets():\n",
        "    \"\"\"\n",
        "    Memuat ketiga dataset dari GitHub:\n",
        "      - olahraga.csv\n",
        "      - history_olahraga.csv\n",
        "      - user_dataset.csv\n",
        "    dan mengembalikannya sebagai tiga DataFrame.\n",
        "    \"\"\"\n",
        "    url_base = (\n",
        "        \"https://raw.githubusercontent.com/\"\n",
        "        \"hilmanfaujiabdilah/capstone-rekomendasi-olahraga/\"\n",
        "        \"refs/heads/main/dataset%20olahraga\"\n",
        "    )\n",
        "    df_olahraga = pd.read_csv(f\"{url_base}/olahraga.csv\")\n",
        "    df_history  = pd.read_csv(f\"{url_base}/history_olahraga.csv\")\n",
        "    df_user     = pd.read_csv(f\"{url_base}/user_dataset.csv\")\n",
        "    return df_olahraga, df_history, df_user"
      ]
    },
    {
      "cell_type": "code",
      "source": [
        "df_olahraga, df_history_orig, df_user = load_datasets()"
      ],
      "metadata": {
        "id": "a5FWG3gXQ2Vv"
      },
      "execution_count": 44,
      "outputs": []
    },
    {
      "cell_type": "markdown",
      "source": [
        "# Explpratory Data Analysis"
      ],
      "metadata": {
        "id": "L9Z_P4SUBo9x"
      }
    },
    {
      "cell_type": "code",
      "source": [
        "def exploratory_data(df_olahraga, df_history, df_user):\n",
        "    \"\"\"\n",
        "    Sekilas informasi tentang ketiga DataFrame.\n",
        "    \"\"\"\n",
        "    print(\"=== df_olahraga ===\")\n",
        "    print(df_olahraga.info(), end=\"\\n\\n\")\n",
        "    print(\"=== df_history ===\")\n",
        "    print(df_history.info(), end=\"\\n\\n\")\n",
        "    print(\"=== df_user ===\")\n",
        "    print(df_user.info(), end=\"\\n\\n\")\n",
        "\n",
        "    # Cek jumlah jenis latihan unik\n",
        "    unique_latihan = df_olahraga['latihan'].unique()\n",
        "    print(f\"Banyak jenis olahraga: {len(unique_latihan)}\")\n",
        "    print(\"Contoh jenis olahraga:\", unique_latihan[:5], \"…\")"
      ],
      "metadata": {
        "id": "c1-ajYvQQ9jf"
      },
      "execution_count": 45,
      "outputs": []
    },
    {
      "cell_type": "code",
      "source": [
        "exploratory_data(df_olahraga,df_history_orig, df_user)"
      ],
      "metadata": {
        "colab": {
          "base_uri": "https://localhost:8080/"
        },
        "id": "M5J_3tg_Q_Nh",
        "outputId": "b306d038-a784-4417-82c0-be21b9e48b60"
      },
      "execution_count": 46,
      "outputs": [
        {
          "output_type": "stream",
          "name": "stdout",
          "text": [
            "=== df_olahraga ===\n",
            "<class 'pandas.core.frame.DataFrame'>\n",
            "RangeIndex: 156 entries, 0 to 155\n",
            "Data columns (total 5 columns):\n",
            " #   Column       Non-Null Count  Dtype  \n",
            "---  ------       --------------  -----  \n",
            " 0   id_olahraga  156 non-null    int64  \n",
            " 1   latihan      156 non-null    object \n",
            " 2   kalori_jam   156 non-null    int64  \n",
            " 3   km           156 non-null    float64\n",
            " 4   Tingkat      156 non-null    object \n",
            "dtypes: float64(1), int64(2), object(2)\n",
            "memory usage: 6.2+ KB\n",
            "None\n",
            "\n",
            "=== df_history ===\n",
            "<class 'pandas.core.frame.DataFrame'>\n",
            "RangeIndex: 5545 entries, 0 to 5544\n",
            "Data columns (total 5 columns):\n",
            " #   Column            Non-Null Count  Dtype \n",
            "---  ------            --------------  ----- \n",
            " 0   id_history        5545 non-null   int64 \n",
            " 1   id_user           5545 non-null   int64 \n",
            " 2   id_olahraga       5545 non-null   int64 \n",
            " 3   tanggal_olahraga  5545 non-null   object\n",
            " 4   durasi_menit      5545 non-null   int64 \n",
            "dtypes: int64(4), object(1)\n",
            "memory usage: 216.7+ KB\n",
            "None\n",
            "\n",
            "=== df_user ===\n",
            "<class 'pandas.core.frame.DataFrame'>\n",
            "RangeIndex: 2100 entries, 0 to 2099\n",
            "Data columns (total 11 columns):\n",
            " #   Column            Non-Null Count  Dtype  \n",
            "---  ------            --------------  -----  \n",
            " 0   id_user           2100 non-null   int64  \n",
            " 1   umur              2100 non-null   int64  \n",
            " 2   jenis_kelamin     2100 non-null   object \n",
            " 3   tinggi_badan      2100 non-null   float64\n",
            " 4   berat_badan       2100 non-null   float64\n",
            " 5   target_berat      2100 non-null   float64\n",
            " 6   aktivitas_harian  2100 non-null   object \n",
            " 7   rutin_olahraga    2100 non-null   object \n",
            " 8   ngemil_malam      2100 non-null   object \n",
            " 9   jam_tidur         2100 non-null   int64  \n",
            " 10  motivasi          2100 non-null   object \n",
            "dtypes: float64(3), int64(3), object(5)\n",
            "memory usage: 180.6+ KB\n",
            "None\n",
            "\n",
            "Banyak jenis olahraga: 156\n",
            "Contoh jenis olahraga: ['Tidur' 'Istirahat' 'Duduk' 'Kerjaan Kantoran (Dibalik Meja)' 'Mengemudi'] …\n"
          ]
        }
      ]
    },
    {
      "cell_type": "markdown",
      "source": [
        "# Dat Preprocessing"
      ],
      "metadata": {
        "id": "ccfvCeFdRlpM"
      }
    },
    {
      "cell_type": "code",
      "source": [
        "def merge_data(df_history: pd.DataFrame,\n",
        "               df_user: pd.DataFrame,\n",
        "               df_olahraga: pd.DataFrame) -> pd.DataFrame:\n",
        "    \"\"\"\n",
        "    1) Merge df_history dengan df_user (ambil aktivitas_harian, rutin_olahraga)\n",
        "    2) Merge hasilnya dengan df_olahraga (ambil kalori_jam)\n",
        "    \"\"\"\n",
        "    # merge dengan df_user\n",
        "    df = (\n",
        "        df_history\n",
        "        .merge(\n",
        "            df_user[['id_user', 'aktivitas_harian', 'rutin_olahraga']],\n",
        "            on='id_user',\n",
        "            how='left'\n",
        "        )\n",
        "        .merge(\n",
        "            df_olahraga[['id_olahraga', 'kalori_jam']],\n",
        "            on='id_olahraga',\n",
        "            how='left'\n",
        "        )\n",
        "    )\n",
        "    return df.copy()  # .copy() untuk menghindari SettingWithCopyWarning"
      ],
      "metadata": {
        "id": "x_LibsUfRosx"
      },
      "execution_count": 47,
      "outputs": []
    },
    {
      "cell_type": "code",
      "source": [
        "def compute_calories(df: pd.DataFrame) -> pd.DataFrame:\n",
        "    \"\"\"\n",
        "    Tambahkan kolom 'kalori_terbakar' = (durasi_menit / 60) * kalori_jam\n",
        "    \"\"\"\n",
        "    df = df.assign(\n",
        "        kalori_terbakar=lambda d: (d['durasi_menit'] / 60) * d['kalori_jam']\n",
        "    )\n",
        "    return df"
      ],
      "metadata": {
        "id": "scjUX11ZRqTp"
      },
      "execution_count": 48,
      "outputs": []
    },
    {
      "cell_type": "code",
      "source": [
        "def encode_ids(df: pd.DataFrame) -> tuple[pd.DataFrame, dict, dict, dict, dict]:\n",
        "    \"\"\"\n",
        "    1) Label encoding untuk id_user → user_to_encoded, encoded_to_user\n",
        "    2) Label encoding untuk id_olahraga → olahraga_to_encoded, encoded_to_olahraga\n",
        "\n",
        "    Mengembalikan:\n",
        "      - df dengan dua kolom baru: 'user_encoded' & 'olahraga_encoded'\n",
        "      - 4 buah dictionary mapping (user_to_encoded, encoded_to_user, olahraga_to_encoded, encoded_to_olahraga)\n",
        "    \"\"\"\n",
        "    # Label encode id_user\n",
        "    user_ids = df['id_user'].unique().tolist()\n",
        "    user_to_encoded = {uid: idx for idx, uid in enumerate(user_ids)}\n",
        "    encoded_to_user = {idx: uid for idx, uid in enumerate(user_ids)}\n",
        "    df = df.assign(user_encoded=lambda d: d['id_user'].map(user_to_encoded))\n",
        "\n",
        "    # Label encode id_olahraga\n",
        "    olahraga_ids = df['id_olahraga'].unique().tolist()\n",
        "    olahraga_to_encoded = {oid: idx for idx, oid in enumerate(olahraga_ids)}\n",
        "    encoded_to_olahraga = {idx: oid for idx, oid in enumerate(olahraga_ids)}\n",
        "    df = df.assign(olahraga_encoded=lambda d: d['id_olahraga'].map(olahraga_to_encoded))\n",
        "\n",
        "    return df, user_to_encoded, encoded_to_user, olahraga_to_encoded, encoded_to_olahraga"
      ],
      "metadata": {
        "id": "lTESP21eRs5Z"
      },
      "execution_count": 49,
      "outputs": []
    },
    {
      "cell_type": "code",
      "source": [
        "def encode_latihan(df: pd.DataFrame,\n",
        "                   df_olahraga: pd.DataFrame) -> tuple[pd.DataFrame, dict, dict]:\n",
        "    \"\"\"\n",
        "    1) Ambil mapping id_olahraga → nama latihan dari df_olahraga\n",
        "    2) Buat label encoding untuk nama latihan (latihan_to_encoded, encoded_to_latihan)\n",
        "    3) Tambahkan kolom 'latihan_encoded' ke df\n",
        "\n",
        "    Kembalikan:\n",
        "      - df dengan kolom 'latihan_encoded'\n",
        "      - dua dictionary mapping (latihan_to_encoded, encoded_to_latihan)\n",
        "    \"\"\"\n",
        "    # 1) mapping id_olahraga → nama latihan\n",
        "    mapping_latihan = df_olahraga.set_index('id_olahraga')['latihan'].to_dict()\n",
        "    # 2) daftar nama latihan unik\n",
        "    latihan_names = df_olahraga['latihan'].unique().tolist()\n",
        "    latihan_to_encoded = {name: idx for idx, name in enumerate(latihan_names)}\n",
        "    encoded_to_latihan = {idx: name for idx, name in enumerate(latihan_names)}\n",
        "    # 3) tambahkan kolom 'latihan_encoded'\n",
        "    df = df.assign(\n",
        "        latihan_encoded=lambda d: d['id_olahraga']\n",
        "                                  .map(mapping_latihan)\n",
        "                                  .map(latihan_to_encoded)\n",
        "    )\n",
        "    return df, latihan_to_encoded, encoded_to_latihan"
      ],
      "metadata": {
        "id": "NrzMVzCNRs19"
      },
      "execution_count": 50,
      "outputs": []
    },
    {
      "cell_type": "code",
      "source": [
        "def one_hot_encode_features(df: pd.DataFrame,\n",
        "                            fitur_kategori: list[str]\n",
        "                           ) -> tuple[pd.DataFrame, OneHotEncoder, list[str]]:\n",
        "    \"\"\"\n",
        "    One-Hot encode kolom di 'fitur_kategori' (contoh: ['aktivitas_harian','rutin_olahraga'])\n",
        "    Mengembalikan:\n",
        "      - df (tanpa kolom asli fitur_kategori, tapi sudah ditambahkan kolom hasil OHE)\n",
        "      - objek OneHotEncoder (untuk digunakan di proses inference jika perlu)\n",
        "      - list nama kolom baru hasil OHE\n",
        "    \"\"\"\n",
        "    ohe = OneHotEncoder(handle_unknown='ignore', sparse_output=False)\n",
        "    arr_ohe = ohe.fit_transform(df[fitur_kategori])\n",
        "    nama_kol_ohe = ohe.get_feature_names_out(fitur_kategori)\n",
        "    df_ohe = pd.DataFrame(arr_ohe, columns=nama_kol_ohe, index=df.index)\n",
        "    # Buang kolom asli fitur_kategori, lalu gabungkan df_ohe\n",
        "    df = pd.concat([df.drop(columns=fitur_kategori), df_ohe], axis=1)\n",
        "    return df, ohe, list(nama_kol_ohe)"
      ],
      "metadata": {
        "id": "L-MYNQT4Rsyh"
      },
      "execution_count": 51,
      "outputs": []
    },
    {
      "cell_type": "code",
      "source": [
        "def normalize_features(df: pd.DataFrame,\n",
        "                       kolom_durasi: str = 'durasi_menit',\n",
        "                       kolom_kalori: str = 'kalori_terbakar'\n",
        "                      ) -> tuple[pd.DataFrame, float, float, float, float]:\n",
        "    \"\"\"\n",
        "    1) Hitung min/max untuk durasi (kolom_durasi) dan kalori (kolom_kalori)\n",
        "    2) Tambahkan kolom 'durasi_normal' dan 'kalori_terbakar_normal'\n",
        "    Mengembalikan juga 4 nilai: durasi_min, durasi_max, kalori_min, kalori_max\n",
        "    (bisa disimpan untuk keperluan reverse‐normalization atau inference).\n",
        "    \"\"\"\n",
        "    durasi_min = df[kolom_durasi].min()\n",
        "    durasi_max = df[kolom_durasi].max()\n",
        "    kalori_min = df[kolom_kalori].min()\n",
        "    kalori_max = df[kolom_kalori].max()\n",
        "\n",
        "    df = df.assign(\n",
        "        durasi_normal=lambda d: (d[kolom_durasi] - durasi_min) / (durasi_max - durasi_min),\n",
        "        kalori_terbakar_normal=lambda d: (d[kolom_kalori] - kalori_min) / (kalori_max - kalori_min)\n",
        "    )\n",
        "    return df, durasi_min, durasi_max, kalori_min, kalori_max"
      ],
      "metadata": {
        "id": "MPLAQUquRsvM"
      },
      "execution_count": 52,
      "outputs": []
    },
    {
      "cell_type": "code",
      "source": [
        "def build_X_y(df: pd.DataFrame,\n",
        "              nama_kol_input: list[str],\n",
        "              nama_kol_target: str = 'kalori_terbakar_normal'\n",
        "             ) -> tuple[np.ndarray, np.ndarray]:\n",
        "    \"\"\"\n",
        "    1) Kumpulkan kolom input (X_all) berdasarkan 'nama_kol_input'\n",
        "    2) Ambil kolom target (y_all)\n",
        "    Kembalikan X_all (numpy array float32) dan y_all (numpy array float32)\n",
        "    \"\"\"\n",
        "    X_all = df[nama_kol_input].values.astype(np.float32)\n",
        "    y_all = df[nama_kol_target].values.astype(np.float32)\n",
        "    return X_all, y_all"
      ],
      "metadata": {
        "id": "VrVIoAYdRsr7"
      },
      "execution_count": 53,
      "outputs": []
    },
    {
      "cell_type": "code",
      "source": [
        "def split_train_val(X_all: np.ndarray,\n",
        "                    y_all: np.ndarray,\n",
        "                    frac_train: float = 0.8\n",
        "                   ) -> tuple[np.ndarray, np.ndarray, np.ndarray, np.ndarray]:\n",
        "    \"\"\"\n",
        "    Bagi X_all & y_all menjadi train/validation.\n",
        "    - frac_train: proporsi data yang masuk ke train. Sisanya untuk val.\n",
        "    \"\"\"\n",
        "    num_samples = X_all.shape[0]\n",
        "    idx_split = int(frac_train * num_samples)\n",
        "    X_train, X_val = X_all[:idx_split], X_all[idx_split:]\n",
        "    y_train, y_val = y_all[:idx_split], y_all[idx_split:]\n",
        "    return X_train, X_val, y_train, y_val"
      ],
      "metadata": {
        "id": "biRs4hbaRso2"
      },
      "execution_count": 54,
      "outputs": []
    },
    {
      "cell_type": "code",
      "source": [
        "# Merge data\n",
        "df_merged = merge_data(df_history_orig, df_user, df_olahraga)"
      ],
      "metadata": {
        "id": "xzrfnD5cRsl7"
      },
      "execution_count": 55,
      "outputs": []
    },
    {
      "cell_type": "code",
      "source": [
        "# Hitung kalori terbakar\n",
        "df_calculated = compute_calories(df_merged)"
      ],
      "metadata": {
        "id": "JSfths2zRsbp"
      },
      "execution_count": 56,
      "outputs": []
    },
    {
      "cell_type": "code",
      "source": [
        "# Encode id_user & id_olahraga\n",
        "(   df_ids_encoded,\n",
        "    user_to_enc, encoded_to_user,\n",
        "    olahraga_to_enc, encoded_to_olahraga ) = encode_ids(df_calculated)"
      ],
      "metadata": {
        "id": "ugE6DLvJSQV3"
      },
      "execution_count": 57,
      "outputs": []
    },
    {
      "cell_type": "code",
      "source": [
        "# Encode nama latihan (konten item)\n",
        "(   df_with_latihan,\n",
        "    latihan_to_enc, encoded_to_latihan\n",
        ") = encode_latihan(df_ids_encoded, df_olahraga)"
      ],
      "metadata": {
        "id": "-ICqjhwXSQSW"
      },
      "execution_count": 58,
      "outputs": []
    },
    {
      "cell_type": "code",
      "source": [
        "# One-Hot Encode kolom kategori\n",
        "fitur_kategori = ['aktivitas_harian', 'rutin_olahraga']\n",
        "(   df_ohe,\n",
        "    ohe_encoder,\n",
        "    ohe_colnames\n",
        ") = one_hot_encode_features(df_with_latihan, fitur_kategori)"
      ],
      "metadata": {
        "id": "jKgLJsiJSQPS"
      },
      "execution_count": 59,
      "outputs": []
    },
    {
      "cell_type": "code",
      "source": [
        "# Normalisasi durasi_menit & kalori_terbakar\n",
        "(   df_normalized,\n",
        "    durasi_min, durasi_max,\n",
        "    kalori_min, kalori_max\n",
        ") = normalize_features(df_ohe,\n",
        "                       kolom_durasi='durasi_menit',\n",
        "                       kolom_kalori='kalori_terbakar')"
      ],
      "metadata": {
        "id": "P7zRZHOzSQMY"
      },
      "execution_count": 60,
      "outputs": []
    },
    {
      "cell_type": "code",
      "source": [
        "# Siapkan nama kolom input untuk X_all\n",
        "# Urutan: ['user_encoded', 'olahraga_encoded', 'latihan_encoded', 'durasi_normal'] + ohe_colnames\n",
        "nama_kol_input = ['user_encoded', 'olahraga_encoded', 'latihan_encoded',\n",
        "                  'durasi_normal'] + ohe_colnames"
      ],
      "metadata": {
        "id": "pV0T_0iCSQJa"
      },
      "execution_count": 61,
      "outputs": []
    },
    {
      "cell_type": "code",
      "source": [
        "# Bangun X_all dan y_all\n",
        "X_all, y_all = build_X_y(df_normalized, nama_kol_input, nama_kol_target='kalori_terbakar_normal')"
      ],
      "metadata": {
        "id": "ODImfGauSqFn"
      },
      "execution_count": 62,
      "outputs": []
    },
    {
      "cell_type": "code",
      "source": [
        "# Split data menjadi train (80%) dan validation (20%)\n",
        "X_train, X_val, y_train, y_val = split_train_val(X_all, y_all, frac_train=0.8)"
      ],
      "metadata": {
        "id": "3OYdlKUySqB6"
      },
      "execution_count": 63,
      "outputs": []
    },
    {
      "cell_type": "code",
      "source": [
        "# Hitung variabel‐variabel penting untuk model\n",
        "num_users = len(user_to_enc)\n",
        "num_olahraga = len(olahraga_to_enc)\n",
        "num_latihan = len(latihan_to_enc)\n",
        "num_add_feats = X_train.shape[1] - 3  # fitur tambahan (durasi_normal + one-hot)"
      ],
      "metadata": {
        "id": "Hvv-qEx4VrAK"
      },
      "execution_count": 64,
      "outputs": []
    },
    {
      "cell_type": "code",
      "source": [
        "# Kumpulkan metadata encoding dalam satu dict\n",
        "metadata = {\n",
        "    'user_to_encoded': user_to_enc,\n",
        "    'encoded_to_user': encoded_to_user,\n",
        "    'olahraga_to_encoded': olahraga_to_enc,\n",
        "    'encoded_to_olahraga': encoded_to_olahraga,\n",
        "    'latihan_to_encoded': latihan_to_enc,\n",
        "    'encoded_to_latihan': encoded_to_latihan,\n",
        "    'ohe_encoder': ohe_encoder,\n",
        "    'ohe_colnames': ohe_colnames,\n",
        "    'durasi_min': durasi_min,\n",
        "    'durasi_max': durasi_max,\n",
        "    'kalori_min': kalori_min,\n",
        "    'kalori_max': kalori_max\n",
        "}"
      ],
      "metadata": {
        "id": "BGRWymylSp-i"
      },
      "execution_count": 65,
      "outputs": []
    },
    {
      "cell_type": "markdown",
      "source": [
        "# Deklarasi Model Hybrid (CF + CBF)"
      ],
      "metadata": {
        "id": "ALcxwgRITETh"
      }
    },
    {
      "cell_type": "code",
      "source": [
        "class HybridRecommenderNet(keras.Model):\n",
        "    \"\"\"\n",
        "    Model Hybrid untuk sistem rekomendasi:\n",
        "    - Embedding user (CF)\n",
        "    - Embedding olahraga (CF)\n",
        "    - Embedding jenis latihan (fitur konten/item)\n",
        "    - Dense layers untuk memprediksi skor (kalori_terbakar_normal)\n",
        "    \"\"\"\n",
        "\n",
        "    def __init__(self, num_users, num_olahraga, num_latihan, embedding_size, num_additional_features, **kwargs):\n",
        "        super(HybridRecommenderNet, self).__init__(**kwargs)\n",
        "        self.user_embedding = layers.Embedding(\n",
        "            input_dim=num_users,\n",
        "            output_dim=embedding_size,\n",
        "            embeddings_initializer='he_normal',\n",
        "            embeddings_regularizer=keras.regularizers.l2(1e-6)\n",
        "        )\n",
        "        self.user_bias = layers.Embedding(input_dim=num_users, output_dim=1)\n",
        "\n",
        "        self.olahraga_embedding = layers.Embedding(\n",
        "            input_dim=num_olahraga,\n",
        "            output_dim=embedding_size,\n",
        "            embeddings_initializer='he_normal',\n",
        "            embeddings_regularizer=keras.regularizers.l2(1e-6)\n",
        "        )\n",
        "        self.olahraga_bias = layers.Embedding(input_dim=num_olahraga, output_dim=1)\n",
        "\n",
        "        self.latihan_embedding = layers.Embedding(\n",
        "            input_dim=num_latihan,\n",
        "            output_dim=embedding_size,\n",
        "            embeddings_initializer='he_normal',\n",
        "            embeddings_regularizer=keras.regularizers.l2(1e-6)\n",
        "        )\n",
        "\n",
        "        # Dense layer untuk memproses gabungan embedding + additional features\n",
        "        dense_input_size = embedding_size * 3 + num_additional_features\n",
        "        self.dense_1 = layers.Dense(\n",
        "            units=64, activation='relu',\n",
        "            kernel_regularizer=keras.regularizers.l2(1e-6)\n",
        "        )\n",
        "        self.output_layer = layers.Dense(1)  # Prediksi skor (kalori_terbakar_normal)\n",
        "\n",
        "    def call(self, inputs):\n",
        "        \"\"\"\n",
        "        inputs: tensor shape = (batch_size, 3 + num_additional_features)\n",
        "          Kolom ke-0: user_encoded (int)\n",
        "          Kolom ke-1: olahraga_encoded (int)\n",
        "          Kolom ke-2: latihan_encoded (int)\n",
        "          Kolom ke-3 dst: fitur tambahan (durasi_normal + One-Hot)\n",
        "        \"\"\"\n",
        "        user_idx       = tf.cast(inputs[:, 0], tf.int32)\n",
        "        olahraga_idx   = tf.cast(inputs[:, 1], tf.int32)\n",
        "        latihan_idx    = tf.cast(inputs[:, 2], tf.int32)\n",
        "        additional_feats = inputs[:, 3:]\n",
        "\n",
        "        # Ambil embedding dan bias\n",
        "        user_vec     = self.user_embedding(user_idx)\n",
        "        user_bias    = self.user_bias(user_idx)       # (batch_size, 1)\n",
        "\n",
        "        olahraga_vec = self.olahraga_embedding(olahraga_idx)\n",
        "        olahraga_bias= self.olahraga_bias(olahraga_idx)  # (batch_size, 1)\n",
        "\n",
        "        latihan_vec  = self.latihan_embedding(latihan_idx)\n",
        "\n",
        "        # Gabungkan semua embedding + fitur tambahan\n",
        "        x = tf.concat([user_vec, olahraga_vec, latihan_vec, additional_feats], axis=1)\n",
        "\n",
        "        # Proses melalui Dense layer\n",
        "        x = self.dense_1(x)  # (batch_size, 64)\n",
        "\n",
        "        # Tambahkan bias (user_bias + olahraga_bias)\n",
        "        # Pastikan dimensi (batch_size, 1) → (batch_size, 1) agar bisa dijumlahkan\n",
        "        x = x + tf.squeeze(user_bias, axis=-1)[:, tf.newaxis]\n",
        "        x = x + tf.squeeze(olahraga_bias, axis=-1)[:, tf.newaxis]\n",
        "\n",
        "        # Output (prediksi skor)\n",
        "        output = self.output_layer(x)\n",
        "        return tf.nn.sigmoid(output)  # sigmoid karena target sudah dinormalisasi [0,1]"
      ],
      "metadata": {
        "id": "KS4jVw_8TY0Z"
      },
      "execution_count": 66,
      "outputs": []
    },
    {
      "cell_type": "markdown",
      "source": [
        "# training Model Hybrid"
      ],
      "metadata": {
        "id": "emkAGqqUTfNc"
      }
    },
    {
      "cell_type": "code",
      "source": [
        "embedding_size = 50\n",
        "model_hybrid = HybridRecommenderNet(\n",
        "    num_users=num_users,\n",
        "    num_olahraga=num_olahraga,\n",
        "    num_latihan=num_latihan,\n",
        "    embedding_size=embedding_size,\n",
        "    num_additional_features=num_add_feats\n",
        ")"
      ],
      "metadata": {
        "id": "xKfnkQ2JTYws"
      },
      "execution_count": 67,
      "outputs": []
    },
    {
      "cell_type": "code",
      "source": [
        "# Kompilasi model dengan MeanSquaredError (karena target kontinu yang sudah dinormalisasi)\n",
        "model_hybrid.compile(\n",
        "    loss=tf.keras.losses.MeanSquaredError(),\n",
        "    optimizer=keras.optimizers.Adam(learning_rate=0.001),\n",
        "    metrics=[tf.keras.metrics.MeanSquaredError(name='mse')]\n",
        ")"
      ],
      "metadata": {
        "id": "GBjr6oD3TYti"
      },
      "execution_count": 68,
      "outputs": []
    },
    {
      "cell_type": "code",
      "source": [
        "print(\"\\n=== Memulai pelatihan model hybrid ===\")\n",
        "history_hybrid = model_hybrid.fit(\n",
        "    x=X_train,\n",
        "    y=y_train,\n",
        "    batch_size=8,\n",
        "    epochs=20,  # Bisa disesuaikan\n",
        "    validation_data=(X_val, y_val),\n",
        "    callbacks=[tf.keras.callbacks.EarlyStopping(patience=5, restore_best_weights=True)]\n",
        ")"
      ],
      "metadata": {
        "colab": {
          "base_uri": "https://localhost:8080/"
        },
        "id": "Cpo4mcKLTYp-",
        "outputId": "3f8d3247-8860-460e-f4f2-355aea0f7ec5"
      },
      "execution_count": 69,
      "outputs": [
        {
          "output_type": "stream",
          "name": "stdout",
          "text": [
            "\n",
            "=== Memulai pelatihan model hybrid ===\n",
            "Epoch 1/20\n",
            "\u001b[1m555/555\u001b[0m \u001b[32m━━━━━━━━━━━━━━━━━━━━\u001b[0m\u001b[37m\u001b[0m \u001b[1m13s\u001b[0m 12ms/step - loss: 0.0352 - mse: 0.0349 - val_loss: 0.0025 - val_mse: 0.0022\n",
            "Epoch 2/20\n",
            "\u001b[1m555/555\u001b[0m \u001b[32m━━━━━━━━━━━━━━━━━━━━\u001b[0m\u001b[37m\u001b[0m \u001b[1m9s\u001b[0m 17ms/step - loss: 0.0015 - mse: 0.0011 - val_loss: 0.0011 - val_mse: 7.2686e-04\n",
            "Epoch 3/20\n",
            "\u001b[1m555/555\u001b[0m \u001b[32m━━━━━━━━━━━━━━━━━━━━\u001b[0m\u001b[37m\u001b[0m \u001b[1m9s\u001b[0m 16ms/step - loss: 9.5711e-04 - mse: 6.2841e-04 - val_loss: 9.6826e-04 - val_mse: 6.4378e-04\n",
            "Epoch 4/20\n",
            "\u001b[1m555/555\u001b[0m \u001b[32m━━━━━━━━━━━━━━━━━━━━\u001b[0m\u001b[37m\u001b[0m \u001b[1m6s\u001b[0m 9ms/step - loss: 7.8050e-04 - mse: 4.5748e-04 - val_loss: 9.1158e-04 - val_mse: 5.9370e-04\n",
            "Epoch 5/20\n",
            "\u001b[1m555/555\u001b[0m \u001b[32m━━━━━━━━━━━━━━━━━━━━\u001b[0m\u001b[37m\u001b[0m \u001b[1m3s\u001b[0m 5ms/step - loss: 7.0166e-04 - mse: 3.8568e-04 - val_loss: 8.4047e-04 - val_mse: 5.2979e-04\n",
            "Epoch 6/20\n",
            "\u001b[1m555/555\u001b[0m \u001b[32m━━━━━━━━━━━━━━━━━━━━\u001b[0m\u001b[37m\u001b[0m \u001b[1m4s\u001b[0m 7ms/step - loss: 6.3653e-04 - mse: 3.2860e-04 - val_loss: 7.8282e-04 - val_mse: 4.8161e-04\n",
            "Epoch 7/20\n",
            "\u001b[1m555/555\u001b[0m \u001b[32m━━━━━━━━━━━━━━━━━━━━\u001b[0m\u001b[37m\u001b[0m \u001b[1m4s\u001b[0m 6ms/step - loss: 5.8334e-04 - mse: 2.8613e-04 - val_loss: 6.9139e-04 - val_mse: 4.0463e-04\n",
            "Epoch 8/20\n",
            "\u001b[1m555/555\u001b[0m \u001b[32m━━━━━━━━━━━━━━━━━━━━\u001b[0m\u001b[37m\u001b[0m \u001b[1m3s\u001b[0m 5ms/step - loss: 5.1922e-04 - mse: 2.3699e-04 - val_loss: 6.0261e-04 - val_mse: 3.3362e-04\n",
            "Epoch 9/20\n",
            "\u001b[1m555/555\u001b[0m \u001b[32m━━━━━━━━━━━━━━━━━━━━\u001b[0m\u001b[37m\u001b[0m \u001b[1m6s\u001b[0m 7ms/step - loss: 4.9914e-04 - mse: 2.3525e-04 - val_loss: 5.1415e-04 - val_mse: 2.6520e-04\n",
            "Epoch 10/20\n",
            "\u001b[1m555/555\u001b[0m \u001b[32m━━━━━━━━━━━━━━━━━━━━\u001b[0m\u001b[37m\u001b[0m \u001b[1m3s\u001b[0m 5ms/step - loss: 4.1596e-04 - mse: 1.7305e-04 - val_loss: 4.5206e-04 - val_mse: 2.2640e-04\n",
            "Epoch 11/20\n",
            "\u001b[1m555/555\u001b[0m \u001b[32m━━━━━━━━━━━━━━━━━━━━\u001b[0m\u001b[37m\u001b[0m \u001b[1m3s\u001b[0m 6ms/step - loss: 3.9429e-04 - mse: 1.7362e-04 - val_loss: 3.8045e-04 - val_mse: 1.7343e-04\n",
            "Epoch 12/20\n",
            "\u001b[1m555/555\u001b[0m \u001b[32m━━━━━━━━━━━━━━━━━━━━\u001b[0m\u001b[37m\u001b[0m \u001b[1m5s\u001b[0m 6ms/step - loss: 3.3578e-04 - mse: 1.3434e-04 - val_loss: 3.3038e-04 - val_mse: 1.4446e-04\n",
            "Epoch 13/20\n",
            "\u001b[1m555/555\u001b[0m \u001b[32m━━━━━━━━━━━━━━━━━━━━\u001b[0m\u001b[37m\u001b[0m \u001b[1m4s\u001b[0m 7ms/step - loss: 3.0639e-04 - mse: 1.2542e-04 - val_loss: 3.1502e-04 - val_mse: 1.4619e-04\n",
            "Epoch 14/20\n",
            "\u001b[1m555/555\u001b[0m \u001b[32m━━━━━━━━━━━━━━━━━━━━\u001b[0m\u001b[37m\u001b[0m \u001b[1m4s\u001b[0m 5ms/step - loss: 2.6170e-04 - mse: 9.8000e-05 - val_loss: 3.3079e-04 - val_mse: 1.8011e-04\n",
            "Epoch 15/20\n",
            "\u001b[1m555/555\u001b[0m \u001b[32m━━━━━━━━━━━━━━━━━━━━\u001b[0m\u001b[37m\u001b[0m \u001b[1m3s\u001b[0m 5ms/step - loss: 2.7882e-04 - mse: 1.3109e-04 - val_loss: 2.4386e-04 - val_mse: 1.0365e-04\n",
            "Epoch 16/20\n",
            "\u001b[1m555/555\u001b[0m \u001b[32m━━━━━━━━━━━━━━━━━━━━\u001b[0m\u001b[37m\u001b[0m \u001b[1m5s\u001b[0m 9ms/step - loss: 2.6880e-04 - mse: 1.3106e-04 - val_loss: 2.3673e-04 - val_mse: 1.1073e-04\n",
            "Epoch 17/20\n",
            "\u001b[1m555/555\u001b[0m \u001b[32m━━━━━━━━━━━━━━━━━━━━\u001b[0m\u001b[37m\u001b[0m \u001b[1m3s\u001b[0m 5ms/step - loss: 2.0085e-04 - mse: 7.8572e-05 - val_loss: 3.6384e-04 - val_mse: 2.4886e-04\n",
            "Epoch 18/20\n",
            "\u001b[1m555/555\u001b[0m \u001b[32m━━━━━━━━━━━━━━━━━━━━\u001b[0m\u001b[37m\u001b[0m \u001b[1m3s\u001b[0m 5ms/step - loss: 2.2171e-04 - mse: 1.0836e-04 - val_loss: 1.8063e-04 - val_mse: 7.3999e-05\n",
            "Epoch 19/20\n",
            "\u001b[1m555/555\u001b[0m \u001b[32m━━━━━━━━━━━━━━━━━━━━\u001b[0m\u001b[37m\u001b[0m \u001b[1m3s\u001b[0m 5ms/step - loss: 1.6766e-04 - mse: 6.4268e-05 - val_loss: 1.8484e-04 - val_mse: 8.4209e-05\n",
            "Epoch 20/20\n",
            "\u001b[1m555/555\u001b[0m \u001b[32m━━━━━━━━━━━━━━━━━━━━\u001b[0m\u001b[37m\u001b[0m \u001b[1m4s\u001b[0m 8ms/step - loss: 1.8202e-04 - mse: 8.3570e-05 - val_loss: 1.4321e-04 - val_mse: 5.2366e-05\n"
          ]
        }
      ]
    },
    {
      "cell_type": "code",
      "source": [
        "# Visualisasi kurva RMSE (Train vs Validation)\n",
        "plt.figure(figsize=(8, 5))\n",
        "plt.plot(history_hybrid.history['mse'], label='Train MSE')\n",
        "plt.plot(history_hybrid.history['val_mse'], label='Val MSE')\n",
        "plt.title('Performa Model Hybrid')\n",
        "plt.xlabel('Epoch')\n",
        "plt.ylabel('Root Mean Squared Error')\n",
        "plt.legend()\n",
        "plt.grid(True)\n",
        "plt.show()"
      ],
      "metadata": {
        "colab": {
          "base_uri": "https://localhost:8080/",
          "height": 487
        },
        "id": "o8hXqZdGTYki",
        "outputId": "4826e942-ee52-48a7-a08c-3aa80622a961"
      },
      "execution_count": 70,
      "outputs": [
        {
          "output_type": "display_data",
          "data": {
            "text/plain": [
              "<Figure size 800x500 with 1 Axes>"
            ],
            "image/png": "[encoded data removed]"
          },
          "metadata": {}
        }
      ]
    },
    {
      "cell_type": "markdown",
      "source": [
        "# Membangun Content Based Matrix"
      ],
      "metadata": {
        "id": "Lz2tyWx8Y1it"
      }
    },
    {
      "cell_type": "code",
      "source": [
        "def build_content_matrix(df_olahraga: pd.DataFrame) -> pd.DataFrame:\n",
        "    \"\"\"\n",
        "    Membangun matriks cosine similarity antar item (id_olahraga) dengan\n",
        "    fitur gabungan: 'latihan' + 'kalori_jam' → di‐TFIDF kan.\n",
        "    \"\"\"\n",
        "    data = df_olahraga[['id_olahraga', 'latihan', 'kalori_jam']].copy()\n",
        "    data['combined'] = data['latihan'] + \" \" + data['kalori_jam'].astype(str)\n",
        "\n",
        "    tfidf = TfidfVectorizer()\n",
        "    tfidf_mat = tfidf.fit_transform(data['combined'])  # shape = (num_items, num_features)\n",
        "\n",
        "    cos_sim_matrix = cosine_similarity(tfidf_mat)      # shape = (num_items, num_items)\n",
        "\n",
        "    # Buat DataFrame cosine similarity, index & columns = id_olahraga\n",
        "    cb_df = pd.DataFrame(\n",
        "        data=cos_sim_matrix,\n",
        "        index=data['id_olahraga'],\n",
        "        columns=data['id_olahraga']\n",
        "    )\n",
        "    return cb_df"
      ],
      "metadata": {
        "id": "ra6CMIhbYyAk"
      },
      "execution_count": 71,
      "outputs": []
    },
    {
      "cell_type": "code",
      "source": [
        "cb_similarity_df = build_content_matrix(df_olahraga)"
      ],
      "metadata": {
        "id": "lxy2mc8eBugw"
      },
      "execution_count": 72,
      "outputs": []
    },
    {
      "cell_type": "markdown",
      "source": [
        "# Rekomendasi Hybrid"
      ],
      "metadata": {
        "id": "Ar_K_U43ZDwQ"
      }
    },
    {
      "cell_type": "code",
      "source": [
        "def recommend_hybrid_for_user(\n",
        "    user_id: int,\n",
        "    df_olahraga: pd.DataFrame,\n",
        "    df_history_original: pd.DataFrame,\n",
        "    model_hybrid: keras.Model,\n",
        "    cb_matrix: pd.DataFrame,\n",
        "    metadata: dict,\n",
        "    top_k: int = 10,\n",
        "    alpha: float = 0.6\n",
        ") -> pd.DataFrame:\n",
        "    \"\"\"\n",
        "    Menghasilkan rekomendasi hybrid (CF + CBF) untuk satu user.\n",
        "    \"\"\"\n",
        "    # 1) Pastikan user ada di metadata\n",
        "    user_to_encoded = metadata['user_to_encoded']\n",
        "    olahraga_to_encoded = metadata['olahraga_to_encoded']\n",
        "    if user_id not in user_to_encoded:\n",
        "        raise ValueError(f\"User {user_id} tidak ditemukan dalam metadata.\")\n",
        "\n",
        "    # 2) Dapatkan indeks user\n",
        "    u_enc = user_to_encoded[user_id]\n",
        "\n",
        "    # 3) Cari daftar item yang sudah pernah dicoba user\n",
        "    visited_items = df_history_original.loc[\n",
        "        df_history_original['id_user'] == user_id, 'id_olahraga'\n",
        "    ].unique()\n",
        "\n",
        "    # 4) Buat daftar semua kandidat yang belum pernah dicoba\n",
        "    all_ol_ids = df_olahraga['id_olahraga'].unique().tolist()\n",
        "    candidates = [oid for oid in all_ol_ids if oid not in visited_items]\n",
        "    n_cand = len(candidates)\n",
        "\n",
        "    # 5) Hitung skor CF (model_hybrid.predict) untuk masing‐masing kandidat\n",
        "    #    - Untuk setiap kandidat, kita butuh vector input sebanyak (2 + num_add_feats)\n",
        "    num_add_feats = X_train.shape[1] - 2  # asumsi X_train ada di global scope\n",
        "    X_cand = np.zeros((n_cand, 2 + num_add_feats), dtype=np.float32)\n",
        "    for i, oid in enumerate(candidates):\n",
        "        X_cand[i, 0] = u_enc\n",
        "        X_cand[i, 1] = olahraga_to_encoded[oid]\n",
        "        # Sisanya (fitur durasi_normal + one-hot) dibiarkan 0\n",
        "\n",
        "    cf_preds = model_hybrid.predict(X_cand, verbose=0).flatten()\n",
        "\n",
        "    # 6) Normalisasi skor CF ke rentang [0,1]\n",
        "    def normalize(arr: np.ndarray) -> np.ndarray:\n",
        "        if arr.max() == arr.min():\n",
        "            return np.zeros_like(arr)\n",
        "        return (arr - arr.min()) / (arr.max() - arr.min())\n",
        "\n",
        "    cf_norm = normalize(cf_preds)\n",
        "\n",
        "    # 7) Hitung skor CBF (rata-rata cosine similarity kandidat dengan visited_items)\n",
        "    if len(visited_items) == 0:\n",
        "        cb_scores = np.zeros(n_cand)\n",
        "    else:\n",
        "        cb_scores = np.array([\n",
        "            cb_matrix.loc[oid, visited_items].mean()\n",
        "            for oid in candidates\n",
        "        ])\n",
        "\n",
        "    cb_norm = normalize(cb_scores)\n",
        "\n",
        "    # 8) Gabungkan menjadi skor hybrid dengan bobot alpha\n",
        "    hybrid_scores = alpha * cf_norm + (1 - alpha) * cb_norm\n",
        "\n",
        "    # 9) Pilih top_k tertinggi\n",
        "    top_idx = np.argsort(hybrid_scores)[-top_k:][::-1]\n",
        "    top_oids = [candidates[i] for i in top_idx]\n",
        "\n",
        "    # 10) Kumpulkan hasil (nama latihan, rata-rata durasi, rata-rata kalori, skor hybrid)\n",
        "    avg_durasi = df_history_original.groupby('id_olahraga')['durasi_menit'].mean().to_dict()\n",
        "    kalori_jam = df_olahraga.set_index('id_olahraga')['kalori_jam'].to_dict()\n",
        "\n",
        "    results = []\n",
        "    for i, oid in enumerate(top_oids):\n",
        "        nama_latihan = df_olahraga.loc[df_olahraga['id_olahraga'] == oid, 'latihan'].iloc[0]\n",
        "        durasi_rata = avg_durasi.get(oid, 0.0)\n",
        "        kalori_rata = (durasi_rata / 60) * kalori_jam.get(oid, 0.0)\n",
        "        skor_hyb = hybrid_scores[top_idx[i]]\n",
        "        results.append({\n",
        "            'id_olahraga': oid,\n",
        "            'latihan': nama_latihan,\n",
        "            'rata_durasi_menit': round(durasi_rata, 1),\n",
        "            'rata_kalori_terbakar': round(kalori_rata, 1),\n",
        "            'skor_hybrid': round(float(skor_hyb), 4)\n",
        "        })\n",
        "\n",
        "    df_results = pd.DataFrame(results)\n",
        "    return df_results"
      ],
      "metadata": {
        "id": "EZqo38fgZDjO"
      },
      "execution_count": 73,
      "outputs": []
    },
    {
      "cell_type": "markdown",
      "source": [
        "# Penggunaan Funsionalitas Rekomendasi"
      ],
      "metadata": {
        "id": "BIh5Why5ZPIr"
      }
    },
    {
      "cell_type": "code",
      "source": [
        "if __name__ == \"__main__\":\n",
        "    # Ambil satu user secara acak dari df_history_orig (untuk contoh)\n",
        "    user_sample = df_history_orig['id_user'].sample(1).iloc[0]\n",
        "    print(f\"\\n>>> Rekomendasi hybrid untuk user {user_sample} <<<\\n\")\n",
        "\n",
        "    df_rekom = recommend_hybrid_for_user(\n",
        "        user_id=user_sample,\n",
        "        df_olahraga=df_olahraga,\n",
        "        df_history_original=df_history_orig,\n",
        "        model_hybrid=model_hybrid,\n",
        "        cb_matrix=cb_similarity_df,\n",
        "        metadata=metadata,\n",
        "        top_k=10,\n",
        "        alpha=0.6\n",
        "    )\n",
        "    print(df_rekom.to_string(index=False))"
      ],
      "metadata": {
        "colab": {
          "base_uri": "https://localhost:8080/"
        },
        "id": "w5O95BDdBoOT",
        "outputId": "07d25f06-61d2-4b7e-c7cd-3ee9f5dbbb09"
      },
      "execution_count": 74,
      "outputs": [
        {
          "output_type": "stream",
          "name": "stdout",
          "text": [
            "\n",
            ">>> Rekomendasi hybrid untuk user 603 <<<\n",
            "\n",
            " id_olahraga          latihan  rata_durasi_menit  rata_kalori_terbakar  skor_hybrid\n",
            "          82          Aerobik               67.0                 573.7       0.6414\n",
            "         109        Bersepeda               68.4                 585.5       0.6186\n",
            "         156 Lari - 16 km/jam               62.1                1216.2       0.6000\n",
            "          89       Kickboxing               64.5                 552.2       0.5937\n",
            "          84             HIIT               67.6                 579.0       0.5903\n",
            "         103         Crossfit               60.4                 517.1       0.5881\n",
            "          97        Taekwondo               64.7                 554.2       0.5878\n",
            "         154 Lari - 13 km/jam               73.2                1211.1       0.5804\n",
            "          98              TRX               60.2                 516.1       0.5762\n",
            "         104           Curves               74.8                 641.1       0.5747\n"
          ]
        }
      ]
    },
    {
      "cell_type": "markdown",
      "source": [
        "# Saved Model to TFJS"
      ],
      "metadata": {
        "id": "y4CRIj-X3Uqx"
      }
    },
    {
      "cell_type": "code",
      "source": [
        "tfjs_model_dir = '/content/hybrid_recommender_tfjs'\n",
        "\n",
        "tfjs.converters.save_keras_model(model_hybrid, tfjs_model_dir)\n",
        "\n",
        "print(f\"\\nModel Keras berhasil disimpan ke format TFJS di: {tfjs_model_dir}\")\n",
        "\n",
        "!zip -r /content/hybrid_recommender_tfjs.zip {tfjs_model_dir}\n",
        "files.download('/content/hybrid_recommender_tfjs.zip')"
      ],
      "metadata": {
        "colab": {
          "base_uri": "https://localhost:8080/",
          "height": 176
        },
        "id": "gpBk8x213XRR",
        "outputId": "204c312a-6796-404d-d40c-ec803c67984f"
      },
      "execution_count": 75,
      "outputs": [
        {
          "output_type": "stream",
          "name": "stderr",
          "text": [
            "WARNING:absl:You are saving your model as an HDF5 file via `model.save()` or `keras.saving.save_model(model)`. This file format is considered legacy. We recommend using instead the native Keras format, e.g. `model.save('my_model.keras')` or `keras.saving.save_model(model, 'my_model.keras')`. \n"
          ]
        },
        {
          "output_type": "stream",
          "name": "stdout",
          "text": [
            "failed to lookup keras version from the file,\n",
            "    this is likely a weight only file\n",
            "\n",
            "Model Keras berhasil disimpan ke format TFJS di: /content/hybrid_recommender_tfjs\n",
            "  adding: content/hybrid_recommender_tfjs/ (stored 0%)\n",
            "  adding: content/hybrid_recommender_tfjs/group1-shard1of1.bin (deflated 8%)\n",
            "  adding: content/hybrid_recommender_tfjs/model.json (deflated 68%)\n"
          ]
        },
        {
          "output_type": "display_data",
          "data": {
            "text/plain": [
              "<IPython.core.display.Javascript object>"
            ],
            "application/javascript": [
              "\n",
              "    async function download(id, filename, size) {\n",
              "      if (!google.colab.kernel.accessAllowed) {\n",
              "        return;\n",
              "      }\n",
              "      const div = document.createElement('div');\n",
              "      const label = document.createElement('label');\n",
              "      label.textContent = `Downloading \"${filename}\": `;\n",
              "      div.appendChild(label);\n",
              "      const progress = document.createElement('progress');\n",
              "      progress.max = size;\n",
              "      div.appendChild(progress);\n",
              "      document.body.appendChild(div);\n",
              "\n",
              "      const buffers = [];\n",
              "      let downloaded = 0;\n",
              "\n",
              "      const channel = await google.colab.kernel.comms.open(id);\n",
              "      // Send a message to notify the kernel that we're ready.\n",
              "      channel.send({})\n",
              "\n",
              "      for await (const message of channel.messages) {\n",
              "        // Send a message to notify the kernel that we're ready.\n",
              "        channel.send({})\n",
              "        if (message.buffers) {\n",
              "          for (const buffer of message.buffers) {\n",
              "            buffers.push(buffer);\n",
              "            downloaded += buffer.byteLength;\n",
              "            progress.value = downloaded;\n",
              "          }\n",
              "        }\n",
              "      }\n",
              "      const blob = new Blob(buffers, {type: 'application/binary'});\n",
              "      const a = document.createElement('a');\n",
              "      a.href = window.URL.createObjectURL(blob);\n",
              "      a.download = filename;\n",
              "      div.appendChild(a);\n",
              "      a.click();\n",
              "      div.remove();\n",
              "    }\n",
              "  "
            ]
          },
          "metadata": {}
        },
        {
          "output_type": "display_data",
          "data": {
            "text/plain": [
              "<IPython.core.display.Javascript object>"
            ],
            "application/javascript": [
              "download(\"download_1b20a604-9cab-4edd-b14b-1f423b2aec64\", \"hybrid_recommender_tfjs.zip\", 488993)"
            ]
          },
          "metadata": {}
        }
      ]
    }
  ]
}